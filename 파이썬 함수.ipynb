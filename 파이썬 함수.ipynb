{
 "cells": [
  {
   "cell_type": "code",
   "execution_count": null,
   "metadata": {},
   "outputs": [],
   "source": [
    "############## 김유진#########################################\n",
    "\n",
    "#함수와 인수\n",
    "#인수의 형식\n",
    "#변수의 범위"
   ]
  },
  {
   "cell_type": "code",
   "execution_count": null,
   "metadata": {},
   "outputs": [],
   "source": [
    "#내장함수"
   ]
  },
  {
   "cell_type": "code",
   "execution_count": 4,
   "metadata": {
    "scrolled": true
   },
   "outputs": [
    {
     "data": {
      "text/plain": [
       "['In',\n",
       " 'Out',\n",
       " '_',\n",
       " '_2',\n",
       " '_3',\n",
       " '__',\n",
       " '___',\n",
       " '__builtin__',\n",
       " '__builtins__',\n",
       " '__doc__',\n",
       " '__loader__',\n",
       " '__name__',\n",
       " '__package__',\n",
       " '__spec__',\n",
       " '_dh',\n",
       " '_i',\n",
       " '_i1',\n",
       " '_i2',\n",
       " '_i3',\n",
       " '_i4',\n",
       " '_ih',\n",
       " '_ii',\n",
       " '_iii',\n",
       " '_oh',\n",
       " 'exit',\n",
       " 'get_ipython',\n",
       " 'quit']"
      ]
     },
     "execution_count": 4,
     "metadata": {},
     "output_type": "execute_result"
    }
   ],
   "source": [
    "abs(-10)\n",
    "chr(65)   #ASCII코드값에 해당하는 문자\n",
    "dir()     #객체가 자체적으로 가지고 있는 변수와 메서드를 보여줌.\n"
   ]
  },
  {
   "cell_type": "code",
   "execution_count": 5,
   "metadata": {},
   "outputs": [
    {
     "data": {
      "text/plain": [
       "(2, 1)"
      ]
     },
     "execution_count": 5,
     "metadata": {},
     "output_type": "execute_result"
    }
   ],
   "source": [
    "divmod(5,2)   #5를 2로 나눈 몫과 나머지를 튜플 형태로 리턴하는 함수."
   ]
  },
  {
   "cell_type": "code",
   "execution_count": 7,
   "metadata": {},
   "outputs": [
    {
     "name": "stdout",
     "output_type": "stream",
     "text": [
      "0 body\n",
      "1 foo\n",
      "2 bar\n"
     ]
    }
   ],
   "source": [
    "#enumerate: 순서가 있는 자료형을 입력으로 받아 인덱스 값을 포함하는 enumerate \n",
    "#객체*****를 리턴한다. \n",
    "\n",
    "for i, name in enumerate(['body','foo','bar']):\n",
    "    print(i,name)\n",
    "    "
   ]
  },
  {
   "cell_type": "code",
   "execution_count": null,
   "metadata": {},
   "outputs": [],
   "source": [
    "#eval(expression)    문자열을 실행\n",
    "#input([prompt])    사용자 입력받기\n",
    "#int(x)             문자열 형태의 숫자, 소수점이 있는 숫자 등을 -->정수로 리터\n",
    "#len(s)             입력값 s의 길이\n",
    "#max(iterable)      최대값을 리턴\n",
    "#sorted(iterable)   입력값을 리턴\n",
    "#str(object)        문자열 형태로 객체를 변환\n",
    "\n"
   ]
  },
  {
   "cell_type": "code",
   "execution_count": 20,
   "metadata": {},
   "outputs": [],
   "source": [
    "def add(a, b):\n",
    "    c=a+b\n",
    "    print(\"add함수 내에 있는 값\",a,b)\n",
    "    return c\n",
    "\n",
    "def mul(a,b):\n",
    "    c=a*b\n",
    "    return c\n"
   ]
  },
  {
   "cell_type": "code",
   "execution_count": 22,
   "metadata": {},
   "outputs": [
    {
     "name": "stdout",
     "output_type": "stream",
     "text": [
      "add함수 내에 있는 값 100 200\n",
      "100 200 300\n"
     ]
    }
   ],
   "source": [
    "x=100\n",
    "y=200\n",
    "result=add(x,y)\n",
    "print(x,y,result)\n"
   ]
  },
  {
   "cell_type": "code",
   "execution_count": null,
   "metadata": {
    "scrolled": false
   },
   "outputs": [],
   "source": []
  },
  {
   "cell_type": "code",
   "execution_count": 16,
   "metadata": {
    "scrolled": true
   },
   "outputs": [
    {
     "data": {
      "text/plain": [
       "{'__name__': '__main__',\n",
       " '__doc__': 'Automatically created module for IPython interactive environment',\n",
       " '__package__': None,\n",
       " '__loader__': None,\n",
       " '__spec__': None,\n",
       " '__builtin__': <module 'builtins' (built-in)>,\n",
       " '__builtins__': <module 'builtins' (built-in)>,\n",
       " '_ih': ['',\n",
       "  'abs(=10)',\n",
       "  'abs(-10)',\n",
       "  'abs(-10)\\nchr(65)',\n",
       "  'abs(-10)\\nchr(65)   #ASCII코드값에 해당하는 문자\\ndir()',\n",
       "  'divmod(5,2)',\n",
       "  \"for i in enumerate(['body','foo','bar']):\\n    print(i,name)\",\n",
       "  \"for i, name in enumerate(['body','foo','bar']):\\n    print(i,name)\",\n",
       "  'def add(a, b):\\n    c=a+b\\n    return c',\n",
       "  'add(2,4)',\n",
       "  'def add(a, b):\\n    c=a+b\\n    return c\\n\\ndef add(a,b):\\n    c=a*b\\n    return c',\n",
       "  'def add(a, b):\\n    c=a+b\\n    return c\\n\\ndef mul(a,b):\\n    c=a*b\\n    return c',\n",
       "  'add(2,4)',\n",
       "  'x=100\\ny=200\\nresult=add(x,y)\\nprint(x,y,result)',\n",
       "  'del a\\ndel b ',\n",
       "  'global()',\n",
       "  'globals()'],\n",
       " '_oh': {2: 10,\n",
       "  3: 'A',\n",
       "  4: ['In',\n",
       "   'Out',\n",
       "   '_',\n",
       "   '_2',\n",
       "   '_3',\n",
       "   '__',\n",
       "   '___',\n",
       "   '__builtin__',\n",
       "   '__builtins__',\n",
       "   '__doc__',\n",
       "   '__loader__',\n",
       "   '__name__',\n",
       "   '__package__',\n",
       "   '__spec__',\n",
       "   '_dh',\n",
       "   '_i',\n",
       "   '_i1',\n",
       "   '_i2',\n",
       "   '_i3',\n",
       "   '_i4',\n",
       "   '_ih',\n",
       "   '_ii',\n",
       "   '_iii',\n",
       "   '_oh',\n",
       "   'exit',\n",
       "   'get_ipython',\n",
       "   'quit'],\n",
       "  5: (2, 1),\n",
       "  9: 6,\n",
       "  12: 6},\n",
       " '_dh': ['C:\\\\Users\\\\eugen\\\\Desktop\\\\파이썬코드'],\n",
       " 'In': ['',\n",
       "  'abs(=10)',\n",
       "  'abs(-10)',\n",
       "  'abs(-10)\\nchr(65)',\n",
       "  'abs(-10)\\nchr(65)   #ASCII코드값에 해당하는 문자\\ndir()',\n",
       "  'divmod(5,2)',\n",
       "  \"for i in enumerate(['body','foo','bar']):\\n    print(i,name)\",\n",
       "  \"for i, name in enumerate(['body','foo','bar']):\\n    print(i,name)\",\n",
       "  'def add(a, b):\\n    c=a+b\\n    return c',\n",
       "  'add(2,4)',\n",
       "  'def add(a, b):\\n    c=a+b\\n    return c\\n\\ndef add(a,b):\\n    c=a*b\\n    return c',\n",
       "  'def add(a, b):\\n    c=a+b\\n    return c\\n\\ndef mul(a,b):\\n    c=a*b\\n    return c',\n",
       "  'add(2,4)',\n",
       "  'x=100\\ny=200\\nresult=add(x,y)\\nprint(x,y,result)',\n",
       "  'del a\\ndel b ',\n",
       "  'global()',\n",
       "  'globals()'],\n",
       " 'Out': {2: 10,\n",
       "  3: 'A',\n",
       "  4: ['In',\n",
       "   'Out',\n",
       "   '_',\n",
       "   '_2',\n",
       "   '_3',\n",
       "   '__',\n",
       "   '___',\n",
       "   '__builtin__',\n",
       "   '__builtins__',\n",
       "   '__doc__',\n",
       "   '__loader__',\n",
       "   '__name__',\n",
       "   '__package__',\n",
       "   '__spec__',\n",
       "   '_dh',\n",
       "   '_i',\n",
       "   '_i1',\n",
       "   '_i2',\n",
       "   '_i3',\n",
       "   '_i4',\n",
       "   '_ih',\n",
       "   '_ii',\n",
       "   '_iii',\n",
       "   '_oh',\n",
       "   'exit',\n",
       "   'get_ipython',\n",
       "   'quit'],\n",
       "  5: (2, 1),\n",
       "  9: 6,\n",
       "  12: 6},\n",
       " 'get_ipython': <bound method InteractiveShell.get_ipython of <ipykernel.zmqshell.ZMQInteractiveShell object at 0x0000026F51F65C18>>,\n",
       " 'exit': <IPython.core.autocall.ZMQExitAutocall at 0x26f51fb8fd0>,\n",
       " 'quit': <IPython.core.autocall.ZMQExitAutocall at 0x26f51fb8fd0>,\n",
       " '_': 6,\n",
       " '__': 6,\n",
       " '___': (2, 1),\n",
       " '_i': 'global()',\n",
       " '_ii': 'del a\\ndel b ',\n",
       " '_iii': 'x=100\\ny=200\\nresult=add(x,y)\\nprint(x,y,result)',\n",
       " '_i1': 'abs(=10)',\n",
       " '_i2': 'abs(-10)',\n",
       " '_2': 10,\n",
       " '_i3': 'abs(-10)\\nchr(65)',\n",
       " '_3': 'A',\n",
       " '_i4': 'abs(-10)\\nchr(65)   #ASCII코드값에 해당하는 문자\\ndir()',\n",
       " '_4': ['In',\n",
       "  'Out',\n",
       "  '_',\n",
       "  '_2',\n",
       "  '_3',\n",
       "  '__',\n",
       "  '___',\n",
       "  '__builtin__',\n",
       "  '__builtins__',\n",
       "  '__doc__',\n",
       "  '__loader__',\n",
       "  '__name__',\n",
       "  '__package__',\n",
       "  '__spec__',\n",
       "  '_dh',\n",
       "  '_i',\n",
       "  '_i1',\n",
       "  '_i2',\n",
       "  '_i3',\n",
       "  '_i4',\n",
       "  '_ih',\n",
       "  '_ii',\n",
       "  '_iii',\n",
       "  '_oh',\n",
       "  'exit',\n",
       "  'get_ipython',\n",
       "  'quit'],\n",
       " '_i5': 'divmod(5,2)',\n",
       " '_5': (2, 1),\n",
       " '_i6': \"for i in enumerate(['body','foo','bar']):\\n    print(i,name)\",\n",
       " 'i': 2,\n",
       " '_i7': \"for i, name in enumerate(['body','foo','bar']):\\n    print(i,name)\",\n",
       " 'name': 'bar',\n",
       " '_i8': 'def add(a, b):\\n    c=a+b\\n    return c',\n",
       " 'add': <function __main__.add(a, b)>,\n",
       " '_i9': 'add(2,4)',\n",
       " '_9': 6,\n",
       " '_i10': 'def add(a, b):\\n    c=a+b\\n    return c\\n\\ndef add(a,b):\\n    c=a*b\\n    return c',\n",
       " '_i11': 'def add(a, b):\\n    c=a+b\\n    return c\\n\\ndef mul(a,b):\\n    c=a*b\\n    return c',\n",
       " 'mul': <function __main__.mul(a, b)>,\n",
       " '_i12': 'add(2,4)',\n",
       " '_12': 6,\n",
       " '_i13': 'x=100\\ny=200\\nresult=add(x,y)\\nprint(x,y,result)',\n",
       " 'x': 100,\n",
       " 'y': 200,\n",
       " 'result': 300,\n",
       " '_i14': 'del a\\ndel b ',\n",
       " '_i15': 'global()',\n",
       " '_i16': 'globals()'}"
      ]
     },
     "execution_count": 16,
     "metadata": {},
     "output_type": "execute_result"
    }
   ],
   "source": [
    "globals()   #global영역 안에 있는 변수, 함수 등.."
   ]
  },
  {
   "cell_type": "code",
   "execution_count": 23,
   "metadata": {},
   "outputs": [],
   "source": [
    "#이제부터 위치인수를 사용할 것;\n",
    "#인수를 순서대로 넣는 방식.\n",
    "\n",
    "def my_print2(*args2):\n",
    "    for item in args2:\n",
    "        print(\"item:\" , item)"
   ]
  },
  {
   "cell_type": "code",
   "execution_count": 24,
   "metadata": {
    "scrolled": true
   },
   "outputs": [
    {
     "name": "stdout",
     "output_type": "stream",
     "text": [
      "item: 10\n",
      "item: 20\n",
      "item: 30\n"
     ]
    }
   ],
   "source": [
    "score=[10,20,30]\n",
    "my_print2(*score)"
   ]
  },
  {
   "cell_type": "code",
   "execution_count": null,
   "metadata": {},
   "outputs": [],
   "source": []
  },
  {
   "cell_type": "code",
   "execution_count": null,
   "metadata": {},
   "outputs": [],
   "source": [
    "\n"
   ]
  },
  {
   "cell_type": "code",
   "execution_count": 42,
   "metadata": {},
   "outputs": [],
   "source": [
    "def myRange(end, start=1, step=1):  #맨 앞에다가 디폴트를 줘야한다.*****\n",
    "    alist=[]\n",
    "    for item in range(start, end, step):\n",
    "        alist.append(item)\n",
    "    return alist"
   ]
  },
  {
   "cell_type": "code",
   "execution_count": 43,
   "metadata": {},
   "outputs": [
    {
     "data": {
      "text/plain": [
       "[3, 5, 7, 9]"
      ]
     },
     "execution_count": 43,
     "metadata": {},
     "output_type": "execute_result"
    }
   ],
   "source": [
    "myRange(10, 3, 2)   "
   ]
  },
  {
   "cell_type": "code",
   "execution_count": 44,
   "metadata": {},
   "outputs": [],
   "source": [
    "def myRange(end, start=1, step=1):  #맨 앞에다가 디폴트를 줘야한다.*****\n",
    "    alist=[]\n",
    "    for item in range(start, end+1, step):\n",
    "        alist.append(item)\n",
    "    return alist"
   ]
  },
  {
   "cell_type": "code",
   "execution_count": 45,
   "metadata": {},
   "outputs": [
    {
     "data": {
      "text/plain": [
       "[2, 3, 4, 5, 6, 7, 8, 9, 10]"
      ]
     },
     "execution_count": 45,
     "metadata": {},
     "output_type": "execute_result"
    }
   ],
   "source": [
    "myRange(10,2)"
   ]
  },
  {
   "cell_type": "code",
   "execution_count": 46,
   "metadata": {},
   "outputs": [
    {
     "name": "stdout",
     "output_type": "stream",
     "text": [
      "6\n",
      "45\n",
      "54\n"
     ]
    }
   ],
   "source": [
    "#가변 인수\n",
    "#고정되지 않은 임의 개수의 인수를 받음.\n",
    "\n",
    "def intsum(*ints):\n",
    "    sum=0\n",
    "    for num in ints:\n",
    "        sum+=num\n",
    "    return sum\n",
    "\n",
    "print(intsum(1,2,3))\n",
    "print(intsum(5,7,9,11,13))\n",
    "print(intsum(8,9,6,2,9,7,5,8))"
   ]
  },
  {
   "cell_type": "code",
   "execution_count": null,
   "metadata": {},
   "outputs": [],
   "source": [
    "#인수의 형식:\n",
    "#인수 목록의 마지막에 하나만 와야한다. \n",
    "#int (s, *ints) 처럼.\n",
    "# intsum(*ints, s) -->틀림\n",
    "#intsum(*ints, *nums) -->틀림\n",
    "\n"
   ]
  },
  {
   "cell_type": "code",
   "execution_count": 51,
   "metadata": {},
   "outputs": [
    {
     "name": "stdout",
     "output_type": "stream",
     "text": [
      "3~5= 12\n",
      "3~5= 12\n"
     ]
    }
   ],
   "source": [
    "# 키워드 가변 인수\n",
    "# ** 기호를 인수 목록에 붙여 키워드 인수를 가변 개수를 전달함\n",
    "\n",
    "def calcstep(**args):\n",
    "    begin=args['begin']\n",
    "    end=args['end']\n",
    "    step=args['step']\n",
    "    \n",
    "    sum=0\n",
    "    for num in range(begin, end+1, step):\n",
    "        sum+=num\n",
    "    return sum\n",
    "\n",
    "print(\"3~5=\",calcstep(begin=3, end=5, step=1))\n",
    "print(\"3~5=\",calcstep(step=1, end=5, begin=3))"
   ]
  },
  {
   "cell_type": "code",
   "execution_count": 52,
   "metadata": {},
   "outputs": [],
   "source": [
    "#키워드 인수와 딕셔너리 unpacking\n",
    "\n",
    "def my_intro2(**kwargs):\n",
    "    for key, value in kwargs.items():\n",
    "        print(key, '---',kwargs[key],'---',value)\n",
    "        \n",
    "        "
   ]
  },
  {
   "cell_type": "code",
   "execution_count": 53,
   "metadata": {},
   "outputs": [],
   "source": [
    "person={\"age\":30, \"job\":\"연예인\", \"name\":\"홍길동\"}"
   ]
  },
  {
   "cell_type": "code",
   "execution_count": 54,
   "metadata": {
    "scrolled": true
   },
   "outputs": [
    {
     "name": "stdout",
     "output_type": "stream",
     "text": [
      "age --- 30 --- 30\n",
      "job --- 연예인 --- 연예인\n",
      "name --- 홍길동 --- 홍길동\n"
     ]
    }
   ],
   "source": [
    "my_intro2(**person)"
   ]
  },
  {
   "cell_type": "code",
   "execution_count": null,
   "metadata": {},
   "outputs": [],
   "source": [
    "# 재귀함수*********\n",
    "#함수 안에서 함수 자기자신을 호출하는 방식을 재귀호출이라고 한다.\n",
    "\n",
    "#파이썬에서는 함수 호출 스택의 깊이 제한이 1000 스택이 넘쳐서 스택 오버플로우 \n",
    "#발생\n",
    "\n",
    "#재귀호출을 사용하려면 반드시 종료 조건을 만들어주어야 한다. \n"
   ]
  },
  {
   "cell_type": "code",
   "execution_count": 57,
   "metadata": {},
   "outputs": [],
   "source": [
    "def my_print(cnt):\n",
    "    if cnt==0:\n",
    "        return\n",
    "    print(\"hello world!\")\n",
    "    cnt-=1\n",
    "    my_print(cnt)"
   ]
  },
  {
   "cell_type": "code",
   "execution_count": 58,
   "metadata": {},
   "outputs": [
    {
     "name": "stdout",
     "output_type": "stream",
     "text": [
      "hello world!\n",
      "hello world!\n",
      "hello world!\n",
      "hello world!\n",
      "hello world!\n"
     ]
    }
   ],
   "source": [
    "my_print(5)"
   ]
  },
  {
   "cell_type": "code",
   "execution_count": 59,
   "metadata": {
    "scrolled": true
   },
   "outputs": [
    {
     "name": "stdout",
     "output_type": "stream",
     "text": [
      "120\n"
     ]
    }
   ],
   "source": [
    "def factorial(su):\n",
    "    if su==1:\n",
    "        return 1\n",
    "    return su*factorial(su-1)\n",
    "print(factorial(5))"
   ]
  },
  {
   "cell_type": "code",
   "execution_count": null,
   "metadata": {},
   "outputs": [],
   "source": [
    "#람다 함수************\n",
    "# aka 익명함수.\n",
    "#람다 표현식 안에서는 새 변수를 선언할 수 없다.\n",
    "#반환값 부분은 변수 없이 식 한 줄로 표현할 수 있어야 한다.\n",
    "#변수가 필요한 복잡한 코드일 경우에는 def로 함수를 작성해야 한다. \n",
    "#함수를 간편하게 작성할 수 있어서 다른 함수의 인수로 넣을 때 주로 사용한다. \n",
    "\n"
   ]
  },
  {
   "cell_type": "code",
   "execution_count": 61,
   "metadata": {},
   "outputs": [
    {
     "data": {
      "text/plain": [
       "15"
      ]
     },
     "execution_count": 61,
     "metadata": {},
     "output_type": "execute_result"
    }
   ],
   "source": [
    "f= lambda x:x+10\n",
    "f(5)"
   ]
  },
  {
   "cell_type": "code",
   "execution_count": 62,
   "metadata": {},
   "outputs": [
    {
     "data": {
      "text/plain": [
       "15"
      ]
     },
     "execution_count": 62,
     "metadata": {},
     "output_type": "execute_result"
    }
   ],
   "source": [
    "(lambda x: x+10 )(5)     #위와 같다."
   ]
  },
  {
   "cell_type": "code",
   "execution_count": 64,
   "metadata": {},
   "outputs": [
    {
     "data": {
      "text/plain": [
       "7"
      ]
     },
     "execution_count": 64,
     "metadata": {},
     "output_type": "execute_result"
    }
   ],
   "source": [
    "(lambda a, b: a+b) (3,4)"
   ]
  },
  {
   "cell_type": "code",
   "execution_count": 65,
   "metadata": {},
   "outputs": [
    {
     "data": {
      "text/plain": [
       "3"
      ]
     },
     "execution_count": 65,
     "metadata": {},
     "output_type": "execute_result"
    }
   ],
   "source": [
    "import operator\n",
    "\n",
    "f=operator.add         #이미 구현되어 있는 함수가 존재한다. \n",
    "f(1,2)"
   ]
  },
  {
   "cell_type": "code",
   "execution_count": 66,
   "metadata": {},
   "outputs": [
    {
     "data": {
      "text/plain": [
       "[1, 2, '3', 4, 5, '6', 7, 8, '9', 10]"
      ]
     },
     "execution_count": 66,
     "metadata": {},
     "output_type": "execute_result"
    }
   ],
   "source": [
    "alist=[1,2,3,4,5,6,7,8,9,10]\n",
    "list(map(lambda x: str(x) if x%3==0 else x, alist))\n"
   ]
  },
  {
   "cell_type": "code",
   "execution_count": 67,
   "metadata": {},
   "outputs": [
    {
     "data": {
      "text/plain": [
       "['1', 2.0, 13, 14, 15, 16, 17, 18, 19, 20]"
      ]
     },
     "execution_count": 67,
     "metadata": {},
     "output_type": "execute_result"
    }
   ],
   "source": [
    "#주의: 복잡한 람다보다는 함수 정의가 유용하다.\n",
    "\n",
    "list(map(lambda x:str(x) if x==1 else float(x) if x==2 else x+10, alist))"
   ]
  },
  {
   "cell_type": "code",
   "execution_count": 69,
   "metadata": {},
   "outputs": [
    {
     "name": "stdout",
     "output_type": "stream",
     "text": [
      "[2, 8, 18, 32, 50]\n"
     ]
    }
   ],
   "source": [
    "#map이 여러 개인 경우\n",
    "\n",
    "a_list=[1,2,3,4,5]\n",
    "b_list=[2,4,6,8,10]\n",
    "result=list(map(lambda x,y: x*y, a_list, b_list))\n",
    "print(result)"
   ]
  },
  {
   "cell_type": "code",
   "execution_count": null,
   "metadata": {},
   "outputs": [],
   "source": []
  },
  {
   "cell_type": "code",
   "execution_count": 74,
   "metadata": {},
   "outputs": [
    {
     "data": {
      "text/plain": [
       "[1, 1, 1, 2, 0, 2]"
      ]
     },
     "execution_count": 74,
     "metadata": {},
     "output_type": "execute_result"
    }
   ],
   "source": [
    "#다음 리스트의 값을 3으로 나눈 나머지를 구하기\n",
    "\n",
    "\n",
    "num=[10,4,7,20,6,5]\n",
    "list(map(lambda x: x%3,num))"
   ]
  },
  {
   "cell_type": "code",
   "execution_count": 87,
   "metadata": {
    "scrolled": true
   },
   "outputs": [
    {
     "data": {
      "text/plain": [
       "[10, 9, 8, 7, 6, 5, 4, 3, 2, 1]"
      ]
     },
     "execution_count": 87,
     "metadata": {},
     "output_type": "execute_result"
    }
   ],
   "source": [
    "nums= list(range(1,11))\n",
    "nums.sort(reverse=True)\n",
    "nums"
   ]
  },
  {
   "cell_type": "code",
   "execution_count": 88,
   "metadata": {},
   "outputs": [
    {
     "data": {
      "text/plain": [
       "[10, 9, 8, 7, 6, 5, 4, 3, 2, 1]"
      ]
     },
     "execution_count": 88,
     "metadata": {},
     "output_type": "execute_result"
    }
   ],
   "source": [
    "f=lambda x:str(x) if x%3==0 else x\n",
    "list(map(f,nums))\n",
    "nums"
   ]
  },
  {
   "cell_type": "code",
   "execution_count": null,
   "metadata": {},
   "outputs": [],
   "source": []
  },
  {
   "cell_type": "code",
   "execution_count": 90,
   "metadata": {
    "scrolled": false
   },
   "outputs": [
    {
     "data": {
      "text/plain": [
       "[8, 7, 9]"
      ]
     },
     "execution_count": 90,
     "metadata": {},
     "output_type": "execute_result"
    }
   ],
   "source": [
    "#FILTER 함수   (lambda사용)\n",
    "#조건을 줘서 걸러내는 것!\n",
    "\n",
    "a=[8,3,2,10,15,7,1,9,0,11]\n",
    "list(filter(lambda x:x>5 and x<10,a))\n",
    "\n"
   ]
  },
  {
   "cell_type": "code",
   "execution_count": null,
   "metadata": {},
   "outputs": [],
   "source": []
  },
  {
   "cell_type": "code",
   "execution_count": 95,
   "metadata": {},
   "outputs": [
    {
     "data": {
      "text/plain": [
       "[10, 14, 15]"
      ]
     },
     "execution_count": 95,
     "metadata": {},
     "output_type": "execute_result"
    }
   ],
   "source": [
    "#10보다 크거나 같고 20보다 작거나 같은 수를 추출\n",
    "\n",
    "a=[10,34,2,5,7,30,14,15]\n",
    "list(filter(lambda x: x>=10 and x<=20 , a))"
   ]
  },
  {
   "cell_type": "code",
   "execution_count": 98,
   "metadata": {},
   "outputs": [
    {
     "data": {
      "text/plain": [
       "['A', 'B', 'C', 'D', 'F', 'F', 'F', 'F', 'F']"
      ]
     },
     "execution_count": 98,
     "metadata": {},
     "output_type": "execute_result"
    }
   ],
   "source": [
    "#대문자만 추출.\n",
    "\n",
    "s='abcdABCDabcdFFFFF'\n",
    "list(filter(lambda x: x<'a'   , s))\n"
   ]
  },
  {
   "cell_type": "code",
   "execution_count": 100,
   "metadata": {},
   "outputs": [
    {
     "data": {
      "text/plain": [
       "15"
      ]
     },
     "execution_count": 100,
     "metadata": {},
     "output_type": "execute_result"
    }
   ],
   "source": [
    "#reduce\n",
    "#처음부터 순차적으로 지정된 함수로 처리한다. \n",
    "\n",
    "a=[1,2,3,4,5]\n",
    "from functools import reduce\n",
    "reduce(lambda x, y: x+y, a)"
   ]
  },
  {
   "cell_type": "code",
   "execution_count": null,
   "metadata": {},
   "outputs": [],
   "source": [
    "#변수의 범위\n",
    "#지역 변수, (함수 안에서만 산다)(함수 벗어나면 X)\n",
    "# 전역 변수  \n",
    "\n",
    "#global함수\n",
    "    #함수 내부에서 지역 변수 새로 만들지 않고 전역 변수 참조하게 함.\n",
    "    \n"
   ]
  },
  {
   "cell_type": "code",
   "execution_count": null,
   "metadata": {},
   "outputs": [],
   "source": []
  },
  {
   "cell_type": "code",
   "execution_count": 103,
   "metadata": {},
   "outputs": [
    {
     "name": "stdout",
     "output_type": "stream",
     "text": [
      "Help on function calcsum in module __main__:\n",
      "\n",
      "calcsum(n)\n",
      "    1~n까지의 합계를 구해 리턴한다.\n",
      "\n"
     ]
    }
   ],
   "source": [
    "#docstring\n",
    "    #함수 선언문과 본체 사이에 작성하는 문자열\n",
    "    #함수의 사용법, 인수의 의미, 주의사항 등 설명 작성\n",
    "    #실행에는 영향이 없음.\n",
    "\n",
    "def calcsum(n):\n",
    "    \"\"\"1~n까지의 합계를 구해 리턴한다.\"\"\"   #함수의 설명**docstring!!!\n",
    "    sum=0\n",
    "    for i in range(n+1):\n",
    "        sum+=i\n",
    "    return sum\n",
    "\n",
    "help(calcsum)"
   ]
  },
  {
   "cell_type": "code",
   "execution_count": 106,
   "metadata": {},
   "outputs": [
    {
     "name": "stdout",
     "output_type": "stream",
     "text": [
      "{'__name__': '__main__', '__doc__': 'Automatically created module for IPython interactive environment', '__package__': None, '__loader__': None, '__spec__': None, '__builtin__': <module 'builtins' (built-in)>, '__builtins__': <module 'builtins' (built-in)>, '_ih': ['', 'abs(=10)', 'abs(-10)', 'abs(-10)\\nchr(65)', 'abs(-10)\\nchr(65)   #ASCII코드값에 해당하는 문자\\ndir()', 'divmod(5,2)', \"for i in enumerate(['body','foo','bar']):\\n    print(i,name)\", \"for i, name in enumerate(['body','foo','bar']):\\n    print(i,name)\", 'def add(a, b):\\n    c=a+b\\n    return c', 'add(2,4)', 'def add(a, b):\\n    c=a+b\\n    return c\\n\\ndef add(a,b):\\n    c=a*b\\n    return c', 'def add(a, b):\\n    c=a+b\\n    return c\\n\\ndef mul(a,b):\\n    c=a*b\\n    return c', 'add(2,4)', 'x=100\\ny=200\\nresult=add(x,y)\\nprint(x,y,result)', 'del a\\ndel b ', 'global()', 'globals()', 'x=100\\ny=200\\nresult=add(x,y)\\nprint(x,y,result)', 'x=100\\ny=200\\nresult=add(x,y)\\nprint(x,y,result)', 'del a\\ndel b ', 'def add(a, b):\\n    c=a+b\\n    print(\"add함수 내에 있는 값\",a,b)\\n    return c\\n\\ndef mul(a,b):\\n    c=a*b\\n    return c', 'x=100\\ny=200\\nresult=add(x,y)\\nprint(x,y,result)', 'x=100\\ny=200\\nresult=add(x,y)\\nprint(x,y,result)', '#이제부터 위치인수를 사용할 것;\\n#인수를 순서대로 넣는 방식.\\n\\ndef my_print2(*args2):\\n    for item in args2:\\n        print(\"item:\" , item)', 'score=[10,20,30]\\nmy_print2(*score)', 'def myRange(start, end, step):\\n    alist=[]\\n    for item in range(start, end, step):\\n        alist.append(item)\\n    return alist', 'myRange(10)', 'def myRange(start=1, end, step=1):\\n    alist=[]\\n    for item in range(start, end, step):\\n        alist.append(item)\\n    return alist', 'def myRange(1, end, 1):\\n    alist=[]\\n    for item in range(start, end, step):\\n        alist.append(item)\\n    return alist', 'def myRange(start=1, end, step=1):\\n    alist=[]\\n    for item in range(start, end, step):\\n        alist.append(item)\\n    return alist', 'def myRange(end, start=1, step=1):\\n    alist=[]\\n    for item in range(start, end, step):\\n        alist.append(item)\\n    return alist', 'myRange(10, 3, 2)', 'for item in range(start, end+1, step):\\n        alist.append(item)\\n    return alist\\n\\nmyRange(10,2)', 'for item in range(start, end+1, step):\\n        alist.append(item)\\n    return alist\\n\\n    myRange(10,2)', 'myRange(10,2)', 'for item in range(start, end+1, step):\\n        alist.append(item)\\n    return alist', 'myRange(10,2)', 'def myRange(end, start=1, step=1):  #맨 앞에다가 디폴트를 줘야한다.*****\\n    alist=[]\\n    for item in range(start, end+1, step):\\n        alist.append(item)\\n    return alist', 'myRange(10,2)', 'def myRange(end, start=1, step=1):  #맨 앞에다가 디폴트를 줘야한다.*****\\n    alist=[]\\n    for item in range(start, end, step):\\n        alist.append(item)\\n    return alist', 'myRange(10, 3, 2)   ', 'def myRange(end, start=1, step=1):  #맨 앞에다가 디폴트를 줘야한다.*****\\n    alist=[]\\n    for item in range(start, end+1, step):\\n        alist.append(item)\\n    return alist', 'myRange(10,2)', '#가변 인수\\n#고정되지 않은 임의 개수의 인수를 받음.\\n\\ndef intsum(*ints):\\n    sum=0\\n    for num in ints:\\n        sum+=num\\n    return sum\\n\\nprint(intsum(1,2,3))\\nprint(intsum(5,7,9,11,13))\\nprint(intsum(8,9,6,2,9,7,5,8))', '# 키워드 가변 인수\\n# ** 기호를 인수 목록에 붙여 키워드 인수를 가변 개수를 전달함\\n\\ndef calcstep(**args):\\n    begin=args[\\'begin\\']\\n    end=args[\\'end\\']\\n    step=args[\\'step\\']\\n    \\n    sum=0\\n    for num in range(begin, end+1, step):\\n        sum+=num\\n    return sum\\n\\nprint(\"3~5=\" ,calcstep(begin=3, end=5, step=1)\\nprint(\"3~5=\" ,calcstep(step=1, end=5, begin=3)', '# 키워드 가변 인수\\n# ** 기호를 인수 목록에 붙여 키워드 인수를 가변 개수를 전달함\\n\\ndef calcstep(**args):\\n    begin=args[\\'begin\\']\\n    end=args[\\'end\\']\\n    step=args[\\'step\\']\\n    \\n    sum=0\\n    for num in range(begin, end+1, step):\\n        sum+=num\\n    return sum\\n\\nprint (\"3~5=\" ,calcstep(begin=3, end=5, step=1)\\nprint (\"3~5=\" ,calcstep(step=1, end=5, begin=3)', '# 키워드 가변 인수\\n# ** 기호를 인수 목록에 붙여 키워드 인수를 가변 개수를 전달함\\n\\ndef calcstep(**args):\\n    begin=args[\\'begin\\']\\n    end=args[\\'end\\']\\n    step=args[\\'step\\']\\n    \\n    sum=0\\n    for num in range(begin, end+1, step):\\n        sum+=num\\n    return sum\\nprint(\"3~5=\" ,calcstep(begin=3, end=5, step=1)\\nprint(\"3~5=\" ,calcstep(step=1, end=5, begin=3)', '# 키워드 가변 인수\\n# ** 기호를 인수 목록에 붙여 키워드 인수를 가변 개수를 전달함\\n\\ndef calcstep(**args):\\n    begin=args[\\'begin\\']\\n    end=args[\\'end\\']\\n    step=args[\\'step\\']\\n    \\n    sum=0\\n    for num in range(begin, end+1, step):\\n        sum+=num\\n    return sum\\n\\nprint(\"3~5=\",calcstep(begin=3, end=5, step=1)\\nprint(\"3~5=\",calcstep(step=1, end=5, begin=3)', '# 키워드 가변 인수\\n# ** 기호를 인수 목록에 붙여 키워드 인수를 가변 개수를 전달함\\n\\ndef calcstep(**args):\\n    begin=args[\\'begin\\']\\n    end=args[\\'end\\']\\n    step=args[\\'step\\']\\n    \\n    sum=0\\n    for num in range(begin, end+1, step):\\n        sum+=num\\n    return sum\\n\\nprint(\"3~5=\",calcstep(begin=3, end=5, step=1))\\nprint(\"3~5=\",calcstep(step=1, end=5, begin=3))', \"#키워드 인수와 딕셔너리 unpacking\\n\\ndef my_intro2(**kwargs):\\n    for key, value in kwargs.items():\\n        print(key, '---',kwargs[key],'---',value)\\n        \\n        \", 'person={\"age\":30, \"job\":\"연예인\", \"name\":\"홍길동\"}', 'my_intro2(**person)', 'def my_print():\\n    print(\"hello world!\")\\n    my_print()', 'my_print()', 'def my_print(cnt):\\n    if cnt==0:\\n        return\\n    print(\"hello world!\")\\n    cnt-=1\\n    my_print(cnt)', 'my_print(5)', 'def factorial(su):\\n    if su==1:\\n        return 1\\n    return su*factorial(su-1)\\nprint(factorial(5))', 'f= lambda x:x+10\\nf95)', 'f= lambda x:x+10\\nf(5)', '( lambda x: x+10 ) (5)', '(lambda a, b: a=b) (3,4)', '(lambda a, b: a+b) (3,4)', 'import operator\\n\\nf=operator.add\\nf(1,2)', 'alist=[1,2,3,4,5,6,7,8,9,10]\\nlist(map(lambda x: str(x) if x%3==0 else x, alist))', '#주의: 복잡한 람다보다는 함수 정의가 유용하다.\\n\\nlist(map(lambda x:str(x) if x==1 else float(x) if x==2 else x+10, alist))', 'a_list = [1, 2, 3, 4, 5]\\x0bb_list = [2, 4, 6, 8, 10]\\x0bresult = list(map(lambda x, y: x * y, a_list, b_list))\\x0bprint(result)', '#map이 여러 개인 경우\\n\\na_list=[1,2,3,4,5]\\nb_list=[2,4,6,8,10]\\nresult=list(map(lambda x,y: x*y, a_list, b_list))\\nprint(result)', '#람다 - filter\\n\\nnum=[10,4,7,20,6,5]', '#다음 리스트의 값을 3으로 나눈 나머지를 구하기\\n\\n\\nnum=[10,4,7,20,6,5]\\nlist(map(lambda x: x%3,num))', '#다음 리스트의 값을 3으로 나눈 나머지를 구하기\\n\\n\\nnum=[10,4,7,20,6,5]\\nlist(map(lambda x: x%3,num))\\nnum.sort()', '#다음 리스트의 값을 3으로 나눈 나머지를 구하기\\n\\n\\nnum=[10,4,7,20,6,5]\\nlist(map(lambda x: x%3,num))\\nnum.sort()', '#다음 리스트의 값을 3으로 나눈 나머지를 구하기\\n\\n\\nnum=[10,4,7,20,6,5]\\nlist(map(lambda x: x%3,num))', 'num.sort()', 'num.sort(key=int)', 'nums= list(range(1,11))', 'nums= list(range(1,11))\\nnums', 'nums= list(range(1,11))\\nnums.sort(reverse=True)\\nnums', 'f=lambda x:str(x) if x%3==0 else x\\nmap(f,num)\\nnums', 'f=lambda x:str(x) if x%3==0 else x\\nmap(f,nums)\\nnums', 'f=lambda x:str(x) if x%3==0 else x\\nlist(map(f,nums))\\nnums', 'a=[1,2,3,4,5]\\nb=[6,7,8,9,10]', 'a=[1,2,3,4,5]\\nb=[6,7,8,9,10]\\n\\nmap(lambda x,y : x*y, a,b)', 'a=[1,2,3,4,5]\\nb=[6,7,8,9,10]\\n\\nlist(map(lambda x,y : x*y, a,b))', 'nums= list(range(1,11))\\nnums.sort(reverse=True)\\nnums', 'nums= list(range(1,11))\\nnums.sort(reverse=True)\\nnums', 'f=lambda x:str(x) if x%3==0 else x\\nlist(map(f,nums))\\nnums', '#FILTER 함수\\n#조건을 줘서 걸러내는 것!\\n\\nlist(filter(lambda x:x>5 and x<10,a))', '#FILTER 함수\\n#조건을 줘서 걸러내는 것!\\n\\na=[8,3,2,10,15,7,1,9,0,11]\\nlist(filter(lambda x:x>5 and x<10,a))', 'a=[10,34,2,5,7,30,14,15]\\nfilter(lambda x: x>=10 & x<=20 , a)', 'a=[10,34,2,5,7,30,14,15]\\nfilter(lambda x: x>=10 and x<=20 , a)', 'a=[10,34,2,5,7,30,14,15]\\nlist(filter(lambda x: x>=10 and x<=20 , a))', 'a=[10,34,2,5,7,30,14,15]\\nlist(filter(lambda x: x>=10 & x<=20 , a))', 'a=[10,34,2,5,7,30,14,15]\\nlist(filter(lambda x: x>=10 and x<=20 , a))', \"s='abcdABCDabcdFFFFF'\\nfilter(lambda x: x<a   , s)\", \"s='abcdABCDabcdFFFFF'\\nlist(filter(lambda x: x<a   , s))\", \"s='abcdABCDabcdFFFFF'\\nlist(filter(lambda x: x<'a'   , s))\", '#reduce\\n#처음부터 순차적으로 지정된 함수로 처리한다. \\n\\nfrom functools import reduce', '#reduce\\n#처음부터 순차적으로 지정된 함수로 처리한다. \\n\\na=[1,2,3,4,5]\\nfrom functools import reduce\\nreduce(lambda x, y: x+y, a)', '#docstring\\n    #함수 선언문과 본체 사이에 작성하는 문자열\\n    #함수의 사용법, 인수의 의미, 주의사항 등 설명 작성\\n    #실행에는 영향이 없음.\\n\\ndef calcsum(n):\\n    \"\"\"1~n까지의 합계를 구해 리턴한다.\"\"\"\\n    sum=0\\n    for i in range(n+1):\\n        sum+=i\\n    return sum\\n\\nhelp(calcsum)', '#docstring\\n    #함수 선언문과 본체 사이에 작성하는 문자열\\n    #함수의 사용법, 인수의 의미, 주의사항 등 설명 작성\\n    #실행에는 영향이 없음.\\n\\ndef calcsum(n):\\n    \"\"\"1~n까지의 합계를 구해 리턴한다.\"\"\"\\n    sum=0\\n    for i in range(n+1):\\n        sum+=i\\n    return sum\\n\\nhelp(calcsum)', '#docstring\\n    #함수 선언문과 본체 사이에 작성하는 문자열\\n    #함수의 사용법, 인수의 의미, 주의사항 등 설명 작성\\n    #실행에는 영향이 없음.\\n\\ndef calcsum(n):\\n    \"\"\"1~n까지의 합계를 구해 리턴한다.\"\"\"\\n    sum=0\\n    for i in range(n+1):\\n        sum+=i\\n    return sum\\n\\nhelp(calcsum)', '#closure\\n    #파이썬에서 변수는 namespace에 저장된다.\\n    #locals함수를 사용하면 현재 namespace를 딕셔너리 형태로 출력가능.\\n    \\nc=100\\ndef my_fun():\\n    global a\\n    a=10\\n    b=20\\n    print(locals())\\n    \\n    \\nprint(locals())\\nmy_func()', '#closure\\n    #파이썬에서 변수는 namespace에 저장된다.\\n    #locals함수를 사용하면 현재 namespace를 딕셔너리 형태로 출력가능.\\n    \\nc=100\\ndef my_fun():\\n    global a\\n    a=10\\n    b=20\\n    print(locals())\\n    \\n    \\nprint(locals())   #변수 확인\\nmy_func()', \"#closure\\n    #파이썬에서 변수는 namespace에 저장된다.\\n    #locals함수를 사용하면 현재 namespace를 딕셔너리 형태로 출력가능.\\n    \\nc=100\\ndef my_fun():\\n    global a\\n    a=10\\n    b=20\\n    print(locals())\\n    \\n    \\nprint(locals())   #변수 확인\\nmy_func()\\nprint(locals()['cc'])\"], '_oh': {2: 10, 3: 'A', 4: ['In', 'Out', '_', '_2', '_3', '__', '___', '__builtin__', '__builtins__', '__doc__', '__loader__', '__name__', '__package__', '__spec__', '_dh', '_i', '_i1', '_i2', '_i3', '_i4', '_ih', '_ii', '_iii', '_oh', 'exit', 'get_ipython', 'quit'], 5: (2, 1), 9: 6, 12: 6, 16: {...}, 31: [3, 5, 7, 9], 36: [2, 3, 4, 5, 6, 7, 8, 9], 39: [2, 3, 4, 5, 6, 7, 8, 9], 41: [2, 3, 4, 5, 6, 7, 8, 9, 10], 43: [3, 5, 7, 9], 45: [2, 3, 4, 5, 6, 7, 8, 9, 10], 61: 15, 62: 15, 64: 7, 65: 3, 66: [1, 2, '3', 4, 5, '6', 7, 8, '9', 10], 67: ['1', 2.0, 13, 14, 15, 16, 17, 18, 19, 20], 71: [1, 1, 1, 2, 0, 2], 74: [1, 1, 1, 2, 0, 2], 78: [1, 2, 3, 4, 5, 6, 7, 8, 9, 10], 79: [10, 9, 8, 7, 6, 5, 4, 3, 2, 1], 80: [10, 9, 8, 7, 6, 5, 4, 3, 2, 1], 81: [10, 9, 8, 7, 6, 5, 4, 3, 2, 1], 82: [10, 9, 8, 7, 6, 5, 4, 3, 2, 1], 84: <map object at 0x0000026F520D0668>, 85: [6, 14, 24, 36, 50], 86: [10, 9, 8, 7, 6, 5, 4, 3, 2, 1], 87: [10, 9, 8, 7, 6, 5, 4, 3, 2, 1], 88: [10, 9, 8, 7, 6, 5, 4, 3, 2, 1], 89: [], 90: [8, 7, 9], 91: <filter object at 0x0000026F520D0390>, 92: <filter object at 0x0000026F520D0550>, 93: [10, 14, 15], 94: [10, 34, 2, 5, 7, 30, 14, 15], 95: [10, 14, 15], 96: <filter object at 0x0000026F520D0518>, 98: ['A', 'B', 'C', 'D', 'F', 'F', 'F', 'F', 'F'], 100: 15}, '_dh': ['C:\\\\Users\\\\eugen\\\\Desktop\\\\파이썬코드'], 'In': ['', 'abs(=10)', 'abs(-10)', 'abs(-10)\\nchr(65)', 'abs(-10)\\nchr(65)   #ASCII코드값에 해당하는 문자\\ndir()', 'divmod(5,2)', \"for i in enumerate(['body','foo','bar']):\\n    print(i,name)\", \"for i, name in enumerate(['body','foo','bar']):\\n    print(i,name)\", 'def add(a, b):\\n    c=a+b\\n    return c', 'add(2,4)', 'def add(a, b):\\n    c=a+b\\n    return c\\n\\ndef add(a,b):\\n    c=a*b\\n    return c', 'def add(a, b):\\n    c=a+b\\n    return c\\n\\ndef mul(a,b):\\n    c=a*b\\n    return c', 'add(2,4)', 'x=100\\ny=200\\nresult=add(x,y)\\nprint(x,y,result)', 'del a\\ndel b ', 'global()', 'globals()', 'x=100\\ny=200\\nresult=add(x,y)\\nprint(x,y,result)', 'x=100\\ny=200\\nresult=add(x,y)\\nprint(x,y,result)', 'del a\\ndel b ', 'def add(a, b):\\n    c=a+b\\n    print(\"add함수 내에 있는 값\",a,b)\\n    return c\\n\\ndef mul(a,b):\\n    c=a*b\\n    return c', 'x=100\\ny=200\\nresult=add(x,y)\\nprint(x,y,result)', 'x=100\\ny=200\\nresult=add(x,y)\\nprint(x,y,result)', '#이제부터 위치인수를 사용할 것;\\n#인수를 순서대로 넣는 방식.\\n\\ndef my_print2(*args2):\\n    for item in args2:\\n        print(\"item:\" , item)', 'score=[10,20,30]\\nmy_print2(*score)', 'def myRange(start, end, step):\\n    alist=[]\\n    for item in range(start, end, step):\\n        alist.append(item)\\n    return alist', 'myRange(10)', 'def myRange(start=1, end, step=1):\\n    alist=[]\\n    for item in range(start, end, step):\\n        alist.append(item)\\n    return alist', 'def myRange(1, end, 1):\\n    alist=[]\\n    for item in range(start, end, step):\\n        alist.append(item)\\n    return alist', 'def myRange(start=1, end, step=1):\\n    alist=[]\\n    for item in range(start, end, step):\\n        alist.append(item)\\n    return alist', 'def myRange(end, start=1, step=1):\\n    alist=[]\\n    for item in range(start, end, step):\\n        alist.append(item)\\n    return alist', 'myRange(10, 3, 2)', 'for item in range(start, end+1, step):\\n        alist.append(item)\\n    return alist\\n\\nmyRange(10,2)', 'for item in range(start, end+1, step):\\n        alist.append(item)\\n    return alist\\n\\n    myRange(10,2)', 'myRange(10,2)', 'for item in range(start, end+1, step):\\n        alist.append(item)\\n    return alist', 'myRange(10,2)', 'def myRange(end, start=1, step=1):  #맨 앞에다가 디폴트를 줘야한다.*****\\n    alist=[]\\n    for item in range(start, end+1, step):\\n        alist.append(item)\\n    return alist', 'myRange(10,2)', 'def myRange(end, start=1, step=1):  #맨 앞에다가 디폴트를 줘야한다.*****\\n    alist=[]\\n    for item in range(start, end, step):\\n        alist.append(item)\\n    return alist', 'myRange(10, 3, 2)   ', 'def myRange(end, start=1, step=1):  #맨 앞에다가 디폴트를 줘야한다.*****\\n    alist=[]\\n    for item in range(start, end+1, step):\\n        alist.append(item)\\n    return alist', 'myRange(10,2)', '#가변 인수\\n#고정되지 않은 임의 개수의 인수를 받음.\\n\\ndef intsum(*ints):\\n    sum=0\\n    for num in ints:\\n        sum+=num\\n    return sum\\n\\nprint(intsum(1,2,3))\\nprint(intsum(5,7,9,11,13))\\nprint(intsum(8,9,6,2,9,7,5,8))', '# 키워드 가변 인수\\n# ** 기호를 인수 목록에 붙여 키워드 인수를 가변 개수를 전달함\\n\\ndef calcstep(**args):\\n    begin=args[\\'begin\\']\\n    end=args[\\'end\\']\\n    step=args[\\'step\\']\\n    \\n    sum=0\\n    for num in range(begin, end+1, step):\\n        sum+=num\\n    return sum\\n\\nprint(\"3~5=\" ,calcstep(begin=3, end=5, step=1)\\nprint(\"3~5=\" ,calcstep(step=1, end=5, begin=3)', '# 키워드 가변 인수\\n# ** 기호를 인수 목록에 붙여 키워드 인수를 가변 개수를 전달함\\n\\ndef calcstep(**args):\\n    begin=args[\\'begin\\']\\n    end=args[\\'end\\']\\n    step=args[\\'step\\']\\n    \\n    sum=0\\n    for num in range(begin, end+1, step):\\n        sum+=num\\n    return sum\\n\\nprint (\"3~5=\" ,calcstep(begin=3, end=5, step=1)\\nprint (\"3~5=\" ,calcstep(step=1, end=5, begin=3)', '# 키워드 가변 인수\\n# ** 기호를 인수 목록에 붙여 키워드 인수를 가변 개수를 전달함\\n\\ndef calcstep(**args):\\n    begin=args[\\'begin\\']\\n    end=args[\\'end\\']\\n    step=args[\\'step\\']\\n    \\n    sum=0\\n    for num in range(begin, end+1, step):\\n        sum+=num\\n    return sum\\nprint(\"3~5=\" ,calcstep(begin=3, end=5, step=1)\\nprint(\"3~5=\" ,calcstep(step=1, end=5, begin=3)', '# 키워드 가변 인수\\n# ** 기호를 인수 목록에 붙여 키워드 인수를 가변 개수를 전달함\\n\\ndef calcstep(**args):\\n    begin=args[\\'begin\\']\\n    end=args[\\'end\\']\\n    step=args[\\'step\\']\\n    \\n    sum=0\\n    for num in range(begin, end+1, step):\\n        sum+=num\\n    return sum\\n\\nprint(\"3~5=\",calcstep(begin=3, end=5, step=1)\\nprint(\"3~5=\",calcstep(step=1, end=5, begin=3)', '# 키워드 가변 인수\\n# ** 기호를 인수 목록에 붙여 키워드 인수를 가변 개수를 전달함\\n\\ndef calcstep(**args):\\n    begin=args[\\'begin\\']\\n    end=args[\\'end\\']\\n    step=args[\\'step\\']\\n    \\n    sum=0\\n    for num in range(begin, end+1, step):\\n        sum+=num\\n    return sum\\n\\nprint(\"3~5=\",calcstep(begin=3, end=5, step=1))\\nprint(\"3~5=\",calcstep(step=1, end=5, begin=3))', \"#키워드 인수와 딕셔너리 unpacking\\n\\ndef my_intro2(**kwargs):\\n    for key, value in kwargs.items():\\n        print(key, '---',kwargs[key],'---',value)\\n        \\n        \", 'person={\"age\":30, \"job\":\"연예인\", \"name\":\"홍길동\"}', 'my_intro2(**person)', 'def my_print():\\n    print(\"hello world!\")\\n    my_print()', 'my_print()', 'def my_print(cnt):\\n    if cnt==0:\\n        return\\n    print(\"hello world!\")\\n    cnt-=1\\n    my_print(cnt)', 'my_print(5)', 'def factorial(su):\\n    if su==1:\\n        return 1\\n    return su*factorial(su-1)\\nprint(factorial(5))', 'f= lambda x:x+10\\nf95)', 'f= lambda x:x+10\\nf(5)', '( lambda x: x+10 ) (5)', '(lambda a, b: a=b) (3,4)', '(lambda a, b: a+b) (3,4)', 'import operator\\n\\nf=operator.add\\nf(1,2)', 'alist=[1,2,3,4,5,6,7,8,9,10]\\nlist(map(lambda x: str(x) if x%3==0 else x, alist))', '#주의: 복잡한 람다보다는 함수 정의가 유용하다.\\n\\nlist(map(lambda x:str(x) if x==1 else float(x) if x==2 else x+10, alist))', 'a_list = [1, 2, 3, 4, 5]\\x0bb_list = [2, 4, 6, 8, 10]\\x0bresult = list(map(lambda x, y: x * y, a_list, b_list))\\x0bprint(result)', '#map이 여러 개인 경우\\n\\na_list=[1,2,3,4,5]\\nb_list=[2,4,6,8,10]\\nresult=list(map(lambda x,y: x*y, a_list, b_list))\\nprint(result)', '#람다 - filter\\n\\nnum=[10,4,7,20,6,5]', '#다음 리스트의 값을 3으로 나눈 나머지를 구하기\\n\\n\\nnum=[10,4,7,20,6,5]\\nlist(map(lambda x: x%3,num))', '#다음 리스트의 값을 3으로 나눈 나머지를 구하기\\n\\n\\nnum=[10,4,7,20,6,5]\\nlist(map(lambda x: x%3,num))\\nnum.sort()', '#다음 리스트의 값을 3으로 나눈 나머지를 구하기\\n\\n\\nnum=[10,4,7,20,6,5]\\nlist(map(lambda x: x%3,num))\\nnum.sort()', '#다음 리스트의 값을 3으로 나눈 나머지를 구하기\\n\\n\\nnum=[10,4,7,20,6,5]\\nlist(map(lambda x: x%3,num))', 'num.sort()', 'num.sort(key=int)', 'nums= list(range(1,11))', 'nums= list(range(1,11))\\nnums', 'nums= list(range(1,11))\\nnums.sort(reverse=True)\\nnums', 'f=lambda x:str(x) if x%3==0 else x\\nmap(f,num)\\nnums', 'f=lambda x:str(x) if x%3==0 else x\\nmap(f,nums)\\nnums', 'f=lambda x:str(x) if x%3==0 else x\\nlist(map(f,nums))\\nnums', 'a=[1,2,3,4,5]\\nb=[6,7,8,9,10]', 'a=[1,2,3,4,5]\\nb=[6,7,8,9,10]\\n\\nmap(lambda x,y : x*y, a,b)', 'a=[1,2,3,4,5]\\nb=[6,7,8,9,10]\\n\\nlist(map(lambda x,y : x*y, a,b))', 'nums= list(range(1,11))\\nnums.sort(reverse=True)\\nnums', 'nums= list(range(1,11))\\nnums.sort(reverse=True)\\nnums', 'f=lambda x:str(x) if x%3==0 else x\\nlist(map(f,nums))\\nnums', '#FILTER 함수\\n#조건을 줘서 걸러내는 것!\\n\\nlist(filter(lambda x:x>5 and x<10,a))', '#FILTER 함수\\n#조건을 줘서 걸러내는 것!\\n\\na=[8,3,2,10,15,7,1,9,0,11]\\nlist(filter(lambda x:x>5 and x<10,a))', 'a=[10,34,2,5,7,30,14,15]\\nfilter(lambda x: x>=10 & x<=20 , a)', 'a=[10,34,2,5,7,30,14,15]\\nfilter(lambda x: x>=10 and x<=20 , a)', 'a=[10,34,2,5,7,30,14,15]\\nlist(filter(lambda x: x>=10 and x<=20 , a))', 'a=[10,34,2,5,7,30,14,15]\\nlist(filter(lambda x: x>=10 & x<=20 , a))', 'a=[10,34,2,5,7,30,14,15]\\nlist(filter(lambda x: x>=10 and x<=20 , a))', \"s='abcdABCDabcdFFFFF'\\nfilter(lambda x: x<a   , s)\", \"s='abcdABCDabcdFFFFF'\\nlist(filter(lambda x: x<a   , s))\", \"s='abcdABCDabcdFFFFF'\\nlist(filter(lambda x: x<'a'   , s))\", '#reduce\\n#처음부터 순차적으로 지정된 함수로 처리한다. \\n\\nfrom functools import reduce', '#reduce\\n#처음부터 순차적으로 지정된 함수로 처리한다. \\n\\na=[1,2,3,4,5]\\nfrom functools import reduce\\nreduce(lambda x, y: x+y, a)', '#docstring\\n    #함수 선언문과 본체 사이에 작성하는 문자열\\n    #함수의 사용법, 인수의 의미, 주의사항 등 설명 작성\\n    #실행에는 영향이 없음.\\n\\ndef calcsum(n):\\n    \"\"\"1~n까지의 합계를 구해 리턴한다.\"\"\"\\n    sum=0\\n    for i in range(n+1):\\n        sum+=i\\n    return sum\\n\\nhelp(calcsum)', '#docstring\\n    #함수 선언문과 본체 사이에 작성하는 문자열\\n    #함수의 사용법, 인수의 의미, 주의사항 등 설명 작성\\n    #실행에는 영향이 없음.\\n\\ndef calcsum(n):\\n    \"\"\"1~n까지의 합계를 구해 리턴한다.\"\"\"\\n    sum=0\\n    for i in range(n+1):\\n        sum+=i\\n    return sum\\n\\nhelp(calcsum)', '#docstring\\n    #함수 선언문과 본체 사이에 작성하는 문자열\\n    #함수의 사용법, 인수의 의미, 주의사항 등 설명 작성\\n    #실행에는 영향이 없음.\\n\\ndef calcsum(n):\\n    \"\"\"1~n까지의 합계를 구해 리턴한다.\"\"\"\\n    sum=0\\n    for i in range(n+1):\\n        sum+=i\\n    return sum\\n\\nhelp(calcsum)', '#closure\\n    #파이썬에서 변수는 namespace에 저장된다.\\n    #locals함수를 사용하면 현재 namespace를 딕셔너리 형태로 출력가능.\\n    \\nc=100\\ndef my_fun():\\n    global a\\n    a=10\\n    b=20\\n    print(locals())\\n    \\n    \\nprint(locals())\\nmy_func()', '#closure\\n    #파이썬에서 변수는 namespace에 저장된다.\\n    #locals함수를 사용하면 현재 namespace를 딕셔너리 형태로 출력가능.\\n    \\nc=100\\ndef my_fun():\\n    global a\\n    a=10\\n    b=20\\n    print(locals())\\n    \\n    \\nprint(locals())   #변수 확인\\nmy_func()', \"#closure\\n    #파이썬에서 변수는 namespace에 저장된다.\\n    #locals함수를 사용하면 현재 namespace를 딕셔너리 형태로 출력가능.\\n    \\nc=100\\ndef my_fun():\\n    global a\\n    a=10\\n    b=20\\n    print(locals())\\n    \\n    \\nprint(locals())   #변수 확인\\nmy_func()\\nprint(locals()['cc'])\"], 'Out': {2: 10, 3: 'A', 4: ['In', 'Out', '_', '_2', '_3', '__', '___', '__builtin__', '__builtins__', '__doc__', '__loader__', '__name__', '__package__', '__spec__', '_dh', '_i', '_i1', '_i2', '_i3', '_i4', '_ih', '_ii', '_iii', '_oh', 'exit', 'get_ipython', 'quit'], 5: (2, 1), 9: 6, 12: 6, 16: {...}, 31: [3, 5, 7, 9], 36: [2, 3, 4, 5, 6, 7, 8, 9], 39: [2, 3, 4, 5, 6, 7, 8, 9], 41: [2, 3, 4, 5, 6, 7, 8, 9, 10], 43: [3, 5, 7, 9], 45: [2, 3, 4, 5, 6, 7, 8, 9, 10], 61: 15, 62: 15, 64: 7, 65: 3, 66: [1, 2, '3', 4, 5, '6', 7, 8, '9', 10], 67: ['1', 2.0, 13, 14, 15, 16, 17, 18, 19, 20], 71: [1, 1, 1, 2, 0, 2], 74: [1, 1, 1, 2, 0, 2], 78: [1, 2, 3, 4, 5, 6, 7, 8, 9, 10], 79: [10, 9, 8, 7, 6, 5, 4, 3, 2, 1], 80: [10, 9, 8, 7, 6, 5, 4, 3, 2, 1], 81: [10, 9, 8, 7, 6, 5, 4, 3, 2, 1], 82: [10, 9, 8, 7, 6, 5, 4, 3, 2, 1], 84: <map object at 0x0000026F520D0668>, 85: [6, 14, 24, 36, 50], 86: [10, 9, 8, 7, 6, 5, 4, 3, 2, 1], 87: [10, 9, 8, 7, 6, 5, 4, 3, 2, 1], 88: [10, 9, 8, 7, 6, 5, 4, 3, 2, 1], 89: [], 90: [8, 7, 9], 91: <filter object at 0x0000026F520D0390>, 92: <filter object at 0x0000026F520D0550>, 93: [10, 14, 15], 94: [10, 34, 2, 5, 7, 30, 14, 15], 95: [10, 14, 15], 96: <filter object at 0x0000026F520D0518>, 98: ['A', 'B', 'C', 'D', 'F', 'F', 'F', 'F', 'F'], 100: 15}, 'get_ipython': <bound method InteractiveShell.get_ipython of <ipykernel.zmqshell.ZMQInteractiveShell object at 0x0000026F51F65C18>>, 'exit': <IPython.core.autocall.ZMQExitAutocall object at 0x0000026F51FB8FD0>, 'quit': <IPython.core.autocall.ZMQExitAutocall object at 0x0000026F51FB8FD0>, '_': 15, '__': ['A', 'B', 'C', 'D', 'F', 'F', 'F', 'F', 'F'], '___': <filter object at 0x0000026F520D0518>, '_i': '#closure\\n    #파이썬에서 변수는 namespace에 저장된다.\\n    #locals함수를 사용하면 현재 namespace를 딕셔너리 형태로 출력가능.\\n    \\nc=100\\ndef my_fun():\\n    global a\\n    a=10\\n    b=20\\n    print(locals())\\n    \\n    \\nprint(locals())   #변수 확인\\nmy_func()', '_ii': '#closure\\n    #파이썬에서 변수는 namespace에 저장된다.\\n    #locals함수를 사용하면 현재 namespace를 딕셔너리 형태로 출력가능.\\n    \\nc=100\\ndef my_fun():\\n    global a\\n    a=10\\n    b=20\\n    print(locals())\\n    \\n    \\nprint(locals())\\nmy_func()', '_iii': '#docstring\\n    #함수 선언문과 본체 사이에 작성하는 문자열\\n    #함수의 사용법, 인수의 의미, 주의사항 등 설명 작성\\n    #실행에는 영향이 없음.\\n\\ndef calcsum(n):\\n    \"\"\"1~n까지의 합계를 구해 리턴한다.\"\"\"\\n    sum=0\\n    for i in range(n+1):\\n        sum+=i\\n    return sum\\n\\nhelp(calcsum)', '_i1': 'abs(=10)', '_i2': 'abs(-10)', '_2': 10, '_i3': 'abs(-10)\\nchr(65)', '_3': 'A', '_i4': 'abs(-10)\\nchr(65)   #ASCII코드값에 해당하는 문자\\ndir()', '_4': ['In', 'Out', '_', '_2', '_3', '__', '___', '__builtin__', '__builtins__', '__doc__', '__loader__', '__name__', '__package__', '__spec__', '_dh', '_i', '_i1', '_i2', '_i3', '_i4', '_ih', '_ii', '_iii', '_oh', 'exit', 'get_ipython', 'quit'], '_i5': 'divmod(5,2)', '_5': (2, 1), '_i6': \"for i in enumerate(['body','foo','bar']):\\n    print(i,name)\", 'i': 2, '_i7': \"for i, name in enumerate(['body','foo','bar']):\\n    print(i,name)\", 'name': 'bar', '_i8': 'def add(a, b):\\n    c=a+b\\n    return c', 'add': <function add at 0x0000026F520B2730>, '_i9': 'add(2,4)', '_9': 6, '_i10': 'def add(a, b):\\n    c=a+b\\n    return c\\n\\ndef add(a,b):\\n    c=a*b\\n    return c', '_i11': 'def add(a, b):\\n    c=a+b\\n    return c\\n\\ndef mul(a,b):\\n    c=a*b\\n    return c', 'mul': <function mul at 0x0000026F520B28C8>, '_i12': 'add(2,4)', '_12': 6, '_i13': 'x=100\\ny=200\\nresult=add(x,y)\\nprint(x,y,result)', 'x': 100, 'y': 200, 'result': [2, 8, 18, 32, 50], '_i14': 'del a\\ndel b ', '_i15': 'global()', '_i16': 'globals()', '_16': {...}, '_i17': 'x=100\\ny=200\\nresult=add(x,y)\\nprint(x,y,result)', '_i18': 'x=100\\ny=200\\nresult=add(x,y)\\nprint(x,y,result)', '_i19': 'del a\\ndel b ', '_i20': 'def add(a, b):\\n    c=a+b\\n    print(\"add함수 내에 있는 값\",a,b)\\n    return c\\n\\ndef mul(a,b):\\n    c=a*b\\n    return c', '_i21': 'x=100\\ny=200\\nresult=add(x,y)\\nprint(x,y,result)', '_i22': 'x=100\\ny=200\\nresult=add(x,y)\\nprint(x,y,result)', '_i23': '#이제부터 위치인수를 사용할 것;\\n#인수를 순서대로 넣는 방식.\\n\\ndef my_print2(*args2):\\n    for item in args2:\\n        print(\"item:\" , item)', 'my_print2': <function my_print2 at 0x0000026F520B2950>, '_i24': 'score=[10,20,30]\\nmy_print2(*score)', 'score': [10, 20, 30], '_i25': 'def myRange(start, end, step):\\n    alist=[]\\n    for item in range(start, end, step):\\n        alist.append(item)\\n    return alist', 'myRange': <function myRange at 0x0000026F520261E0>, '_i26': 'myRange(10)', '_i27': 'def myRange(start=1, end, step=1):\\n    alist=[]\\n    for item in range(start, end, step):\\n        alist.append(item)\\n    return alist', '_i28': 'def myRange(1, end, 1):\\n    alist=[]\\n    for item in range(start, end, step):\\n        alist.append(item)\\n    return alist', '_i29': 'def myRange(start=1, end, step=1):\\n    alist=[]\\n    for item in range(start, end, step):\\n        alist.append(item)\\n    return alist', '_i30': 'def myRange(end, start=1, step=1):\\n    alist=[]\\n    for item in range(start, end, step):\\n        alist.append(item)\\n    return alist', '_i31': 'myRange(10, 3, 2)', '_31': [3, 5, 7, 9], '_i32': 'for item in range(start, end+1, step):\\n        alist.append(item)\\n    return alist\\n\\nmyRange(10,2)', '_i34': 'for item in range(start, end+1, step):\\n        alist.append(item)\\n    return alist\\n\\n    myRange(10,2)', '_i36': 'myRange(10,2)', '_36': [2, 3, 4, 5, 6, 7, 8, 9], '_i37': 'for item in range(start, end+1, step):\\n        alist.append(item)\\n    return alist', '_i39': 'myRange(10,2)', '_39': [2, 3, 4, 5, 6, 7, 8, 9], '_i40': 'def myRange(end, start=1, step=1):  #맨 앞에다가 디폴트를 줘야한다.*****\\n    alist=[]\\n    for item in range(start, end+1, step):\\n        alist.append(item)\\n    return alist', '_i41': 'myRange(10,2)', '_41': [2, 3, 4, 5, 6, 7, 8, 9, 10], '_i42': 'def myRange(end, start=1, step=1):  #맨 앞에다가 디폴트를 줘야한다.*****\\n    alist=[]\\n    for item in range(start, end, step):\\n        alist.append(item)\\n    return alist', '_i43': 'myRange(10, 3, 2)   ', '_43': [3, 5, 7, 9], '_i44': 'def myRange(end, start=1, step=1):  #맨 앞에다가 디폴트를 줘야한다.*****\\n    alist=[]\\n    for item in range(start, end+1, step):\\n        alist.append(item)\\n    return alist', '_i45': 'myRange(10,2)', '_45': [2, 3, 4, 5, 6, 7, 8, 9, 10], '_i46': '#가변 인수\\n#고정되지 않은 임의 개수의 인수를 받음.\\n\\ndef intsum(*ints):\\n    sum=0\\n    for num in ints:\\n        sum+=num\\n    return sum\\n\\nprint(intsum(1,2,3))\\nprint(intsum(5,7,9,11,13))\\nprint(intsum(8,9,6,2,9,7,5,8))', 'intsum': <function intsum at 0x0000026F520B2A60>, '_i47': '# 키워드 가변 인수\\n# ** 기호를 인수 목록에 붙여 키워드 인수를 가변 개수를 전달함\\n\\ndef calcstep(**args):\\n    begin=args[\\'begin\\']\\n    end=args[\\'end\\']\\n    step=args[\\'step\\']\\n    \\n    sum=0\\n    for num in range(begin, end+1, step):\\n        sum+=num\\n    return sum\\n\\nprint(\"3~5=\" ,calcstep(begin=3, end=5, step=1)\\nprint(\"3~5=\" ,calcstep(step=1, end=5, begin=3)', '_i48': '# 키워드 가변 인수\\n# ** 기호를 인수 목록에 붙여 키워드 인수를 가변 개수를 전달함\\n\\ndef calcstep(**args):\\n    begin=args[\\'begin\\']\\n    end=args[\\'end\\']\\n    step=args[\\'step\\']\\n    \\n    sum=0\\n    for num in range(begin, end+1, step):\\n        sum+=num\\n    return sum\\n\\nprint (\"3~5=\" ,calcstep(begin=3, end=5, step=1)\\nprint (\"3~5=\" ,calcstep(step=1, end=5, begin=3)', '_i49': '# 키워드 가변 인수\\n# ** 기호를 인수 목록에 붙여 키워드 인수를 가변 개수를 전달함\\n\\ndef calcstep(**args):\\n    begin=args[\\'begin\\']\\n    end=args[\\'end\\']\\n    step=args[\\'step\\']\\n    \\n    sum=0\\n    for num in range(begin, end+1, step):\\n        sum+=num\\n    return sum\\nprint(\"3~5=\" ,calcstep(begin=3, end=5, step=1)\\nprint(\"3~5=\" ,calcstep(step=1, end=5, begin=3)', '_i50': '# 키워드 가변 인수\\n# ** 기호를 인수 목록에 붙여 키워드 인수를 가변 개수를 전달함\\n\\ndef calcstep(**args):\\n    begin=args[\\'begin\\']\\n    end=args[\\'end\\']\\n    step=args[\\'step\\']\\n    \\n    sum=0\\n    for num in range(begin, end+1, step):\\n        sum+=num\\n    return sum\\n\\nprint(\"3~5=\",calcstep(begin=3, end=5, step=1)\\nprint(\"3~5=\",calcstep(step=1, end=5, begin=3)', '_i51': '# 키워드 가변 인수\\n# ** 기호를 인수 목록에 붙여 키워드 인수를 가변 개수를 전달함\\n\\ndef calcstep(**args):\\n    begin=args[\\'begin\\']\\n    end=args[\\'end\\']\\n    step=args[\\'step\\']\\n    \\n    sum=0\\n    for num in range(begin, end+1, step):\\n        sum+=num\\n    return sum\\n\\nprint(\"3~5=\",calcstep(begin=3, end=5, step=1))\\nprint(\"3~5=\",calcstep(step=1, end=5, begin=3))', 'calcstep': <function calcstep at 0x0000026F520C7400>, '_i52': \"#키워드 인수와 딕셔너리 unpacking\\n\\ndef my_intro2(**kwargs):\\n    for key, value in kwargs.items():\\n        print(key, '---',kwargs[key],'---',value)\\n        \\n        \", 'my_intro2': <function my_intro2 at 0x0000026F520C78C8>, '_i53': 'person={\"age\":30, \"job\":\"연예인\", \"name\":\"홍길동\"}', 'person': {'age': 30, 'job': '연예인', 'name': '홍길동'}, '_i54': 'my_intro2(**person)', '_i55': 'def my_print():\\n    print(\"hello world!\")\\n    my_print()', 'my_print': <function my_print at 0x0000026F520B2488>, '_i56': 'my_print()', '_i57': 'def my_print(cnt):\\n    if cnt==0:\\n        return\\n    print(\"hello world!\")\\n    cnt-=1\\n    my_print(cnt)', '_i58': 'my_print(5)', '_i59': 'def factorial(su):\\n    if su==1:\\n        return 1\\n    return su*factorial(su-1)\\nprint(factorial(5))', 'factorial': <function factorial at 0x0000026F520B2510>, '_i60': 'f= lambda x:x+10\\nf95)', '_i61': 'f= lambda x:x+10\\nf(5)', 'f': <function <lambda> at 0x0000026F520C7840>, '_61': 15, '_i62': '( lambda x: x+10 ) (5)', '_62': 15, '_i63': '(lambda a, b: a=b) (3,4)', '_i64': '(lambda a, b: a+b) (3,4)', '_64': 7, '_i65': 'import operator\\n\\nf=operator.add\\nf(1,2)', 'operator': <module 'operator' from 'C:\\\\Users\\\\eugen\\\\Anaconda3\\\\envs\\\\multi\\\\lib\\\\operator.py'>, '_65': 3, '_i66': 'alist=[1,2,3,4,5,6,7,8,9,10]\\nlist(map(lambda x: str(x) if x%3==0 else x, alist))', 'alist': [1, 2, 3, 4, 5, 6, 7, 8, 9, 10], '_66': [1, 2, '3', 4, 5, '6', 7, 8, '9', 10], '_i67': '#주의: 복잡한 람다보다는 함수 정의가 유용하다.\\n\\nlist(map(lambda x:str(x) if x==1 else float(x) if x==2 else x+10, alist))', '_67': ['1', 2.0, 13, 14, 15, 16, 17, 18, 19, 20], '_i68': 'a_list = [1, 2, 3, 4, 5]\\x0bb_list = [2, 4, 6, 8, 10]\\x0bresult = list(map(lambda x, y: x * y, a_list, b_list))\\x0bprint(result)', '_i69': '#map이 여러 개인 경우\\n\\na_list=[1,2,3,4,5]\\nb_list=[2,4,6,8,10]\\nresult=list(map(lambda x,y: x*y, a_list, b_list))\\nprint(result)', 'a_list': [1, 2, 3, 4, 5], 'b_list': [2, 4, 6, 8, 10], '_i70': '#람다 - filter\\n\\nnum=[10,4,7,20,6,5]', 'num': [4, 5, 6, 7, 10, 20], '_i71': '#다음 리스트의 값을 3으로 나눈 나머지를 구하기\\n\\n\\nnum=[10,4,7,20,6,5]\\nlist(map(lambda x: x%3,num))', '_71': [1, 1, 1, 2, 0, 2], '_i72': '#다음 리스트의 값을 3으로 나눈 나머지를 구하기\\n\\n\\nnum=[10,4,7,20,6,5]\\nlist(map(lambda x: x%3,num))\\nnum.sort()', '_i73': '#다음 리스트의 값을 3으로 나눈 나머지를 구하기\\n\\n\\nnum=[10,4,7,20,6,5]\\nlist(map(lambda x: x%3,num))\\nnum.sort()', '_i74': '#다음 리스트의 값을 3으로 나눈 나머지를 구하기\\n\\n\\nnum=[10,4,7,20,6,5]\\nlist(map(lambda x: x%3,num))', '_74': [1, 1, 1, 2, 0, 2], '_i75': 'num.sort()', '_i76': 'num.sort(key=int)', '_i77': 'nums= list(range(1,11))', 'nums': [10, 9, 8, 7, 6, 5, 4, 3, 2, 1], '_i78': 'nums= list(range(1,11))\\nnums', '_78': [1, 2, 3, 4, 5, 6, 7, 8, 9, 10], '_i79': 'nums= list(range(1,11))\\nnums.sort(reverse=True)\\nnums', '_79': [10, 9, 8, 7, 6, 5, 4, 3, 2, 1], '_i80': 'f=lambda x:str(x) if x%3==0 else x\\nmap(f,num)\\nnums', '_80': [10, 9, 8, 7, 6, 5, 4, 3, 2, 1], '_i81': 'f=lambda x:str(x) if x%3==0 else x\\nmap(f,nums)\\nnums', '_81': [10, 9, 8, 7, 6, 5, 4, 3, 2, 1], '_i82': 'f=lambda x:str(x) if x%3==0 else x\\nlist(map(f,nums))\\nnums', '_82': [10, 9, 8, 7, 6, 5, 4, 3, 2, 1], '_i83': 'a=[1,2,3,4,5]\\nb=[6,7,8,9,10]', 'a': [1, 2, 3, 4, 5], 'b': [6, 7, 8, 9, 10], '_i84': 'a=[1,2,3,4,5]\\nb=[6,7,8,9,10]\\n\\nmap(lambda x,y : x*y, a,b)', '_84': <map object at 0x0000026F520D0668>, '_i85': 'a=[1,2,3,4,5]\\nb=[6,7,8,9,10]\\n\\nlist(map(lambda x,y : x*y, a,b))', '_85': [6, 14, 24, 36, 50], '_i86': 'nums= list(range(1,11))\\nnums.sort(reverse=True)\\nnums', '_86': [10, 9, 8, 7, 6, 5, 4, 3, 2, 1], '_i87': 'nums= list(range(1,11))\\nnums.sort(reverse=True)\\nnums', '_87': [10, 9, 8, 7, 6, 5, 4, 3, 2, 1], '_i88': 'f=lambda x:str(x) if x%3==0 else x\\nlist(map(f,nums))\\nnums', '_88': [10, 9, 8, 7, 6, 5, 4, 3, 2, 1], '_i89': '#FILTER 함수\\n#조건을 줘서 걸러내는 것!\\n\\nlist(filter(lambda x:x>5 and x<10,a))', '_89': [], '_i90': '#FILTER 함수\\n#조건을 줘서 걸러내는 것!\\n\\na=[8,3,2,10,15,7,1,9,0,11]\\nlist(filter(lambda x:x>5 and x<10,a))', '_90': [8, 7, 9], '_i91': 'a=[10,34,2,5,7,30,14,15]\\nfilter(lambda x: x>=10 & x<=20 , a)', '_91': <filter object at 0x0000026F520D0390>, '_i92': 'a=[10,34,2,5,7,30,14,15]\\nfilter(lambda x: x>=10 and x<=20 , a)', '_92': <filter object at 0x0000026F520D0550>, '_i93': 'a=[10,34,2,5,7,30,14,15]\\nlist(filter(lambda x: x>=10 and x<=20 , a))', '_93': [10, 14, 15], '_i94': 'a=[10,34,2,5,7,30,14,15]\\nlist(filter(lambda x: x>=10 & x<=20 , a))', '_94': [10, 34, 2, 5, 7, 30, 14, 15], '_i95': 'a=[10,34,2,5,7,30,14,15]\\nlist(filter(lambda x: x>=10 and x<=20 , a))', '_95': [10, 14, 15], '_i96': \"s='abcdABCDabcdFFFFF'\\nfilter(lambda x: x<a   , s)\", 's': 'abcdABCDabcdFFFFF', '_96': <filter object at 0x0000026F520D0518>, '_i97': \"s='abcdABCDabcdFFFFF'\\nlist(filter(lambda x: x<a   , s))\", '_i98': \"s='abcdABCDabcdFFFFF'\\nlist(filter(lambda x: x<'a'   , s))\", '_98': ['A', 'B', 'C', 'D', 'F', 'F', 'F', 'F', 'F'], '_i99': '#reduce\\n#처음부터 순차적으로 지정된 함수로 처리한다. \\n\\nfrom functools import reduce', 'reduce': <built-in function reduce>, '_i100': '#reduce\\n#처음부터 순차적으로 지정된 함수로 처리한다. \\n\\na=[1,2,3,4,5]\\nfrom functools import reduce\\nreduce(lambda x, y: x+y, a)', '_100': 15, '_i101': '#docstring\\n    #함수 선언문과 본체 사이에 작성하는 문자열\\n    #함수의 사용법, 인수의 의미, 주의사항 등 설명 작성\\n    #실행에는 영향이 없음.\\n\\ndef calcsum(n):\\n    \"\"\"1~n까지의 합계를 구해 리턴한다.\"\"\"\\n    sum=0\\n    for i in range(n+1):\\n        sum+=i\\n    return sum\\n\\nhelp(calcsum)', 'calcsum': <function calcsum at 0x0000026F520C72F0>, '_i102': '#docstring\\n    #함수 선언문과 본체 사이에 작성하는 문자열\\n    #함수의 사용법, 인수의 의미, 주의사항 등 설명 작성\\n    #실행에는 영향이 없음.\\n\\ndef calcsum(n):\\n    \"\"\"1~n까지의 합계를 구해 리턴한다.\"\"\"\\n    sum=0\\n    for i in range(n+1):\\n        sum+=i\\n    return sum\\n\\nhelp(calcsum)', '_i103': '#docstring\\n    #함수 선언문과 본체 사이에 작성하는 문자열\\n    #함수의 사용법, 인수의 의미, 주의사항 등 설명 작성\\n    #실행에는 영향이 없음.\\n\\ndef calcsum(n):\\n    \"\"\"1~n까지의 합계를 구해 리턴한다.\"\"\"\\n    sum=0\\n    for i in range(n+1):\\n        sum+=i\\n    return sum\\n\\nhelp(calcsum)', '_i104': '#closure\\n    #파이썬에서 변수는 namespace에 저장된다.\\n    #locals함수를 사용하면 현재 namespace를 딕셔너리 형태로 출력가능.\\n    \\nc=100\\ndef my_fun():\\n    global a\\n    a=10\\n    b=20\\n    print(locals())\\n    \\n    \\nprint(locals())\\nmy_func()', 'c': 100, 'my_fun': <function my_fun at 0x0000026F520C7048>, '_i105': '#closure\\n    #파이썬에서 변수는 namespace에 저장된다.\\n    #locals함수를 사용하면 현재 namespace를 딕셔너리 형태로 출력가능.\\n    \\nc=100\\ndef my_fun():\\n    global a\\n    a=10\\n    b=20\\n    print(locals())\\n    \\n    \\nprint(locals())   #변수 확인\\nmy_func()', '_i106': \"#closure\\n    #파이썬에서 변수는 namespace에 저장된다.\\n    #locals함수를 사용하면 현재 namespace를 딕셔너리 형태로 출력가능.\\n    \\nc=100\\ndef my_fun():\\n    global a\\n    a=10\\n    b=20\\n    print(locals())\\n    \\n    \\nprint(locals())   #변수 확인\\nmy_func()\\nprint(locals()['cc'])\"}\n"
     ]
    },
    {
     "ename": "NameError",
     "evalue": "name 'my_func' is not defined",
     "output_type": "error",
     "traceback": [
      "\u001b[1;31m---------------------------------------------------------------------------\u001b[0m",
      "\u001b[1;31mNameError\u001b[0m                                 Traceback (most recent call last)",
      "\u001b[1;32m<ipython-input-106-c2850aa22934>\u001b[0m in \u001b[0;36m<module>\u001b[1;34m\u001b[0m\n\u001b[0;32m     12\u001b[0m \u001b[1;33m\u001b[0m\u001b[0m\n\u001b[0;32m     13\u001b[0m \u001b[0mprint\u001b[0m\u001b[1;33m(\u001b[0m\u001b[0mlocals\u001b[0m\u001b[1;33m(\u001b[0m\u001b[1;33m)\u001b[0m\u001b[1;33m)\u001b[0m   \u001b[1;31m#변수 확인\u001b[0m\u001b[1;33m\u001b[0m\u001b[1;33m\u001b[0m\u001b[0m\n\u001b[1;32m---> 14\u001b[1;33m \u001b[0mmy_func\u001b[0m\u001b[1;33m(\u001b[0m\u001b[1;33m)\u001b[0m\u001b[1;33m\u001b[0m\u001b[1;33m\u001b[0m\u001b[0m\n\u001b[0m\u001b[0;32m     15\u001b[0m \u001b[0mprint\u001b[0m\u001b[1;33m(\u001b[0m\u001b[0mlocals\u001b[0m\u001b[1;33m(\u001b[0m\u001b[1;33m)\u001b[0m\u001b[1;33m[\u001b[0m\u001b[1;34m'cc'\u001b[0m\u001b[1;33m]\u001b[0m\u001b[1;33m)\u001b[0m\u001b[1;33m\u001b[0m\u001b[1;33m\u001b[0m\u001b[0m\n",
      "\u001b[1;31mNameError\u001b[0m: name 'my_func' is not defined"
     ]
    }
   ],
   "source": [
    "#closure\n",
    "    #파이썬에서 변수는 namespace에 저장된다.\n",
    "    #locals함수를 사용하면 현재 namespace를 딕셔너리 형태로 출력가능.\n",
    "    \n",
    "c=100\n",
    "def my_fun():\n",
    "    global a\n",
    "    a=10\n",
    "    b=20\n",
    "    print(locals())\n",
    "    \n",
    "    \n",
    "print(locals())   #변수 확인\n",
    "my_func()\n",
    "print(locals()['cc'])"
   ]
  },
  {
   "cell_type": "code",
   "execution_count": 109,
   "metadata": {},
   "outputs": [
    {
     "name": "stdout",
     "output_type": "stream",
     "text": [
      "[1, 2, 3, 4, 5]\n"
     ]
    }
   ],
   "source": [
    "\n",
    "print(locals()['a'])"
   ]
  },
  {
   "cell_type": "code",
   "execution_count": null,
   "metadata": {},
   "outputs": [],
   "source": []
  },
  {
   "cell_type": "code",
   "execution_count": 111,
   "metadata": {},
   "outputs": [
    {
     "name": "stdout",
     "output_type": "stream",
     "text": [
      "30\n",
      "100\n"
     ]
    }
   ],
   "source": [
    "#클로저\n",
    "\n",
    "def calc():\n",
    "    total=0\n",
    "    \n",
    "    def add(a,b):\n",
    "        nonlocal total     #바깥 함수의 지역 변수 사용 설정**\n",
    "        total=total+a+b\n",
    "        print(total)\n",
    "\n",
    "    add(10,20)\n",
    "    add(30,40)\n",
    "    \n",
    "calc()"
   ]
  },
  {
   "cell_type": "code",
   "execution_count": 113,
   "metadata": {
    "scrolled": true
   },
   "outputs": [
    {
     "name": "stdout",
     "output_type": "stream",
     "text": [
      "8 11 14 17 20\n"
     ]
    }
   ],
   "source": [
    "#지역변수를 외부에서 사용하기 위해 함수 자체를 반환한다.\n",
    "\n",
    "def calc():\n",
    "    a=3\n",
    "    b=5\n",
    "    def mul_add(x):\n",
    "        return a*x+b\n",
    "        #함수 바깥의 지역 변수a,b를 사용하여 계산.\\\n",
    "    return mul_add    #mul_add함수를 반환\n",
    "c=calc()\n",
    "print(c(1),c(2),c(3),c(4),c(5))\n"
   ]
  },
  {
   "cell_type": "code",
   "execution_count": null,
   "metadata": {},
   "outputs": [],
   "source": []
  },
  {
   "cell_type": "code",
   "execution_count": null,
   "metadata": {},
   "outputs": [],
   "source": []
  },
  {
   "cell_type": "code",
   "execution_count": null,
   "metadata": {},
   "outputs": [],
   "source": []
  },
  {
   "cell_type": "code",
   "execution_count": null,
   "metadata": {},
   "outputs": [],
   "source": []
  },
  {
   "cell_type": "code",
   "execution_count": null,
   "metadata": {},
   "outputs": [],
   "source": []
  },
  {
   "cell_type": "code",
   "execution_count": null,
   "metadata": {},
   "outputs": [],
   "source": []
  },
  {
   "cell_type": "code",
   "execution_count": null,
   "metadata": {},
   "outputs": [],
   "source": []
  },
  {
   "cell_type": "code",
   "execution_count": null,
   "metadata": {},
   "outputs": [],
   "source": []
  },
  {
   "cell_type": "code",
   "execution_count": null,
   "metadata": {},
   "outputs": [],
   "source": []
  }
 ],
 "metadata": {
  "kernelspec": {
   "display_name": "multi-py3.6",
   "language": "python",
   "name": "multi"
  },
  "language_info": {
   "codemirror_mode": {
    "name": "ipython",
    "version": 3
   },
   "file_extension": ".py",
   "mimetype": "text/x-python",
   "name": "python",
   "nbconvert_exporter": "python",
   "pygments_lexer": "ipython3",
   "version": "3.6.9"
  }
 },
 "nbformat": 4,
 "nbformat_minor": 2
}
