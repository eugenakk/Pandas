{
 "cells": [
  {
   "cell_type": "code",
   "execution_count": null,
   "metadata": {},
   "outputs": [],
   "source": [
    "# 파이썬 정규\n",
    "#딕셔너리와 집합\n",
    "#Collection 관리\n"
   ]
  },
  {
   "cell_type": "markdown",
   "metadata": {},
   "source": [
    "<a href='http://www.daum.net'\n",
    "            style='color:red; font-size:30px'> 다음 사이트 가기</p>\n"
   ]
  },
  {
   "cell_type": "code",
   "execution_count": 4,
   "metadata": {},
   "outputs": [],
   "source": [
    "song=\"\"\"저 오늘 떠나요 공항으로\n",
    "핸드폰 꺼 놔요 제발 날 찾진 말아줘\n",
    "시끄럽게 소리를 질러도 어쩔 수 없어 나\n",
    "가볍게 손을 흔들며 bye bye\n",
    "쉬지 않고 빛났던 꿈같은 my youth\n",
    "이리저리 치이고 또 망가질 때쯤\n",
    "지쳤어 나 미쳤어 나 떠날 거야 다 비켜\n",
    "I fly away\n",
    "Take me to London Paris New York city들\n",
    "아름다운 이 도시에 빠져서 나\n",
    "Like I'm a bird bird 날아다니는 새처럼\n",
    "난 자유롭게 fly fly 나 숨을 셔\n",
    "Take me to new world anywhere 어디든\n",
    "답답한 이 곳을 벗어 나기만 하면\n",
    "Shining light light 빛나는 my youth\n",
    "자유롭게 fly fly 나 숨을 셔\n",
    "저 이제 쉬어요 떠날 거예요\n",
    "노트북 꺼 놔요 제발 날 잡진 말아줘\n",
    "시끄럽게 소리를 질러도 어쩔 수 없어 나\n",
    "가볍게 손을 흔들며 see you\n",
    "쉬지 않고 빛났던 꿈같은 my youth\n",
    "이리저리 치이고 또 망가질 때쯤\n",
    "지쳤어 나 미쳤어 나 떠날 거야 다 비켜\n",
    "I fly away\n",
    "Take me to London Paris New York city들\n",
    "아름다운 이 도시에 빠져서 나\n",
    "Like I'm a bird bird 날아다니는 새처럼\n",
    "난 자유롭게 fly fly 나 숨을 셔\n",
    "Take me to new world anywhere 어디든\n",
    "답답한 이 곳을 벗어 나기만 하면\n",
    "Shining light light 빛나는 my youth\n",
    "자유롭게 fly fly 나 숨을 셔\n",
    "I can fly away\n",
    "Fly always always always\n",
    "Fly always\n",
    "Take me to new world anywhere 어디든\n",
    "답답한 이 곳을 벗어 나기만 하면\n",
    "Shining light light 빛나는 my youth\n",
    "자유롭게 fly fly 나 숨을 셔\"\"\""
   ]
  },
  {
   "cell_type": "code",
   "execution_count": 5,
   "metadata": {},
   "outputs": [
    {
     "data": {
      "text/plain": [
       "['저',\n",
       " '오늘',\n",
       " '떠나요',\n",
       " '공항으로\\n핸드폰',\n",
       " '꺼',\n",
       " '놔요',\n",
       " '제발',\n",
       " '날',\n",
       " '찾진',\n",
       " '말아줘\\n시끄럽게',\n",
       " '소리를',\n",
       " '질러도',\n",
       " '어쩔',\n",
       " '수',\n",
       " '없어',\n",
       " '나\\n가볍게',\n",
       " '손을',\n",
       " '흔들며',\n",
       " 'bye',\n",
       " 'bye\\n쉬지',\n",
       " '않고',\n",
       " '빛났던',\n",
       " '꿈같은',\n",
       " 'my',\n",
       " 'youth\\n이리저리',\n",
       " '치이고',\n",
       " '또',\n",
       " '망가질',\n",
       " '때쯤\\n지쳤어',\n",
       " '나',\n",
       " '미쳤어',\n",
       " '나',\n",
       " '떠날',\n",
       " '거야',\n",
       " '다',\n",
       " '비켜\\nI',\n",
       " 'fly',\n",
       " 'away\\nTake',\n",
       " 'me',\n",
       " 'to',\n",
       " 'London',\n",
       " 'Paris',\n",
       " 'New',\n",
       " 'York',\n",
       " 'city들\\n아름다운',\n",
       " '이',\n",
       " '도시에',\n",
       " '빠져서',\n",
       " '나\\nLike',\n",
       " \"I'm\",\n",
       " 'a',\n",
       " 'bird',\n",
       " 'bird',\n",
       " '날아다니는',\n",
       " '새처럼\\n난',\n",
       " '자유롭게',\n",
       " 'fly',\n",
       " 'fly',\n",
       " '나',\n",
       " '숨을',\n",
       " '셔\\nTake',\n",
       " 'me',\n",
       " 'to',\n",
       " 'new',\n",
       " 'world',\n",
       " 'anywhere',\n",
       " '어디든\\n답답한',\n",
       " '이',\n",
       " '곳을',\n",
       " '벗어',\n",
       " '나기만',\n",
       " '하면\\nShining',\n",
       " 'light',\n",
       " 'light',\n",
       " '빛나는',\n",
       " 'my',\n",
       " 'youth\\n자유롭게',\n",
       " 'fly',\n",
       " 'fly',\n",
       " '나',\n",
       " '숨을',\n",
       " '셔\\n저',\n",
       " '이제',\n",
       " '쉬어요',\n",
       " '떠날',\n",
       " '거예요\\n노트북',\n",
       " '꺼',\n",
       " '놔요',\n",
       " '제발',\n",
       " '날',\n",
       " '잡진',\n",
       " '말아줘\\n시끄럽게',\n",
       " '소리를',\n",
       " '질러도',\n",
       " '어쩔',\n",
       " '수',\n",
       " '없어',\n",
       " '나\\n가볍게',\n",
       " '손을',\n",
       " '흔들며',\n",
       " 'see',\n",
       " 'you\\n쉬지',\n",
       " '않고',\n",
       " '빛났던',\n",
       " '꿈같은',\n",
       " 'my',\n",
       " 'youth\\n이리저리',\n",
       " '치이고',\n",
       " '또',\n",
       " '망가질',\n",
       " '때쯤\\n지쳤어',\n",
       " '나',\n",
       " '미쳤어',\n",
       " '나',\n",
       " '떠날',\n",
       " '거야',\n",
       " '다',\n",
       " '비켜\\nI',\n",
       " 'fly',\n",
       " 'away\\nTake',\n",
       " 'me',\n",
       " 'to',\n",
       " 'London',\n",
       " 'Paris',\n",
       " 'New',\n",
       " 'York',\n",
       " 'city들\\n아름다운',\n",
       " '이',\n",
       " '도시에',\n",
       " '빠져서',\n",
       " '나\\nLike',\n",
       " \"I'm\",\n",
       " 'a',\n",
       " 'bird',\n",
       " 'bird',\n",
       " '날아다니는',\n",
       " '새처럼\\n난',\n",
       " '자유롭게',\n",
       " 'fly',\n",
       " 'fly',\n",
       " '나',\n",
       " '숨을',\n",
       " '셔\\nTake',\n",
       " 'me',\n",
       " 'to',\n",
       " 'new',\n",
       " 'world',\n",
       " 'anywhere',\n",
       " '어디든\\n답답한',\n",
       " '이',\n",
       " '곳을',\n",
       " '벗어',\n",
       " '나기만',\n",
       " '하면\\nShining',\n",
       " 'light',\n",
       " 'light',\n",
       " '빛나는',\n",
       " 'my',\n",
       " 'youth\\n자유롭게',\n",
       " 'fly',\n",
       " 'fly',\n",
       " '나',\n",
       " '숨을',\n",
       " '셔\\nI',\n",
       " 'can',\n",
       " 'fly',\n",
       " 'away\\nFly',\n",
       " 'always',\n",
       " 'always',\n",
       " 'always\\nFly',\n",
       " 'always\\nTake',\n",
       " 'me',\n",
       " 'to',\n",
       " 'new',\n",
       " 'world',\n",
       " 'anywhere',\n",
       " '어디든\\n답답한',\n",
       " '이',\n",
       " '곳을',\n",
       " '벗어',\n",
       " '나기만',\n",
       " '하면\\nShining',\n",
       " 'light',\n",
       " 'light',\n",
       " '빛나는',\n",
       " 'my',\n",
       " 'youth\\n자유롭게',\n",
       " 'fly',\n",
       " 'fly',\n",
       " '나',\n",
       " '숨을',\n",
       " '셔']"
      ]
     },
     "execution_count": 5,
     "metadata": {},
     "output_type": "execute_result"
    }
   ],
   "source": [
    "alist= song.split(' ')    #공벡을 기준으로 단어를 쪼갠다. \n",
    "alist "
   ]
  },
  {
   "cell_type": "code",
   "execution_count": 10,
   "metadata": {},
   "outputs": [
    {
     "data": {
      "text/plain": [
       "[('fly', 13), ('나', 9), ('light', 6), ('my', 5), ('me', 5)]"
      ]
     },
     "execution_count": 10,
     "metadata": {},
     "output_type": "execute_result"
    }
   ],
   "source": [
    "from collections import Counter\n",
    "\n",
    "cnt=Counter(alist)  #뭐가 몇 번 나왔는지 알 수 있다. \n",
    "cnt\n",
    "\n",
    "# \\n 가 방해가 된다.\n",
    "cnt.most_common(5)    #가장 많은 문자 상위 5개\n"
   ]
  },
  {
   "cell_type": "code",
   "execution_count": 9,
   "metadata": {},
   "outputs": [
    {
     "name": "stdout",
     "output_type": "stream",
     "text": [
      "에러 1033\n"
     ]
    }
   ],
   "source": [
    "#정규 표현식 사용~~~\n",
    "\n",
    "import re\n",
    "text = \"에러 1122 : 레퍼런스 오류\\n 에러 1033: 아규먼트 오류\"\n",
    "regex = re.compile(\"에러 1033\")\n",
    "mo = regex.search(text)\n",
    "if mo != None:          #있다면 출력해라\n",
    "    print(mo.group()) "
   ]
  },
  {
   "cell_type": "code",
   "execution_count": 11,
   "metadata": {},
   "outputs": [
    {
     "name": "stdout",
     "output_type": "stream",
     "text": [
      "032-232-3245\n"
     ]
    }
   ],
   "source": [
    "#정규 표현식은 단순한 리터럴 문자열을 검색하는 것보다 훨씬 많은 기능들을 제공.\n",
    "#즉, 특정 패턴의 문자열을 검색하는데 매우 유용하다. \n",
    "# ex) 웹 페이지나 텍스트에서 특정 패턴의 전화번호를 발취하는 기능.\n",
    "\n",
    "import re\n",
    "text = \"문의사항이 있으면 032-232-3245 으로 연락주시기 바랍니다.\"\n",
    " \n",
    "regex = re.compile(r'\\d\\d\\d-\\d\\d\\d-\\d\\d\\d\\d')\n",
    "#regex = re.compile(r'\\d{3}-\\d{3}-\\d{4}')   이렇게 써도 된다~~\n",
    "matchobj = regex.search(text)\n",
    "phonenumber = matchobj.group()\n",
    "print(phonenumber)   "
   ]
  },
  {
   "cell_type": "code",
   "execution_count": 14,
   "metadata": {
    "scrolled": true
   },
   "outputs": [
    {
     "name": "stdout",
     "output_type": "stream",
     "text": [
      "032 232-3245\n",
      "032-232-3245\n"
     ]
    }
   ],
   "source": [
    "#정규식 그룹\n",
    "\n",
    "\n",
    "import re\n",
    "text = \"문의사항이 있으면 032-232-3245 으로 연락주시기 바랍니다.\"\n",
    " \n",
    "regex = re.compile(r'(\\d{3})-(\\d{3}-\\d{4})')\n",
    "matchobj = regex.search(text)\n",
    "\n",
    "#이렇게 분리된 그룹들은 matchobj의 group()메서드에서 그룹 번호를 파라미터로 넣어\n",
    "#값을 가져올 수 있다. \n",
    "areaCode = matchobj.group(1)\n",
    "num = matchobj.group(2)\n",
    "fullNum = matchobj.group()\n",
    "print(areaCode, num) # 032 232-3245\n",
    "print(fullNum)"
   ]
  },
  {
   "cell_type": "code",
   "execution_count": 17,
   "metadata": {
    "scrolled": true
   },
   "outputs": [
    {
     "name": "stdout",
     "output_type": "stream",
     "text": [
      "032 232-3245\n"
     ]
    }
   ],
   "source": [
    "#그룹을 위와 같이 숫자로 인덱싱하는 대신 그룹이름을 **** 지정할 수 있는데\n",
    "#이를 정규식에서 --->Named Capturing Group이라 한다. \n",
    "# (?P<그룹명>정규식) 와 같이 정규식 표현 앞에 ?P<그룹명>을 쓰면 된다.\n",
    "\n",
    "import re\n",
    " \n",
    "text = \"문의사항이 있으면 032-232-3245 으로 연락주시기 바랍니다.\"\n",
    " \n",
    "regex = re.compile(r'(?P<area>\\d{3})-(?P<num>\\d{3}-\\d{4})')\n",
    "matchobj = regex.search(text)\n",
    "areaCode = matchobj.group(\"area\")\n",
    "num = matchobj.group(\"num\")\n",
    "print(areaCode, num)  # 032 232-3245\n",
    "\n"
   ]
  },
  {
   "cell_type": "code",
   "execution_count": 44,
   "metadata": {},
   "outputs": [
    {
     "data": {
      "text/plain": [
       "[('나', 13), ('fly', 13), ('light', 6), ('my', 5), ('youth', 5)]"
      ]
     },
     "execution_count": 44,
     "metadata": {},
     "output_type": "execute_result"
    }
   ],
   "source": [
    "# \\n, \\, , 를 ' ' 로 대체시킨다. \n",
    "#그리고 다시 가장 상위를 구한다. \n",
    "\n",
    "s=re.sub('[\\n |\\ \"|\\' |,]', ' ',song)\n",
    "alist=s.split(\" \")\n",
    "blist=[ word for word in alist if len(word)>0]\n",
    "Counter(blist).most_common(5)\n"
   ]
  },
  {
   "cell_type": "code",
   "execution_count": 45,
   "metadata": {},
   "outputs": [
    {
     "data": {
      "text/plain": [
       "2"
      ]
     },
     "execution_count": 45,
     "metadata": {},
     "output_type": "execute_result"
    }
   ],
   "source": [
    "#제발이 몇번 나옴?\n",
    "Counter(blist)['제발']"
   ]
  },
  {
   "cell_type": "code",
   "execution_count": 47,
   "metadata": {},
   "outputs": [
    {
     "data": {
      "text/plain": [
       "13"
      ]
     },
     "execution_count": 47,
     "metadata": {},
     "output_type": "execute_result"
    }
   ],
   "source": [
    "#fly는 몇번 나옴?\n",
    "Counter(blist)[\"fly\"]"
   ]
  },
  {
   "cell_type": "code",
   "execution_count": null,
   "metadata": {},
   "outputs": [],
   "source": []
  },
  {
   "cell_type": "code",
   "execution_count": null,
   "metadata": {},
   "outputs": [],
   "source": [
    "#지금까지~~~~~~~~\n",
    "#리스트, \n",
    "#튜플, \n",
    "#딕서녀리.\n",
    "\n",
    "#이제부터 SET(집합) 에 대해~~~\n",
    "#순서 X, 중복 X\n"
   ]
  },
  {
   "cell_type": "code",
   "execution_count": null,
   "metadata": {},
   "outputs": [],
   "source": []
  },
  {
   "cell_type": "code",
   "execution_count": 50,
   "metadata": {
    "scrolled": true
   },
   "outputs": [
    {
     "name": "stdout",
     "output_type": "stream",
     "text": [
      "0 10\n",
      "1 20\n",
      "2 30\n",
      "3 40\n",
      "4 50\n"
     ]
    }
   ],
   "source": [
    "#enumerate 메소드******\n",
    "#반복 조회 시 현재 원소의 index와 원소를 튜플로 묶어서 반환한다. \n",
    "\n",
    "a={10,20,30,40,50}\n",
    "a=list(range(10,51,10))\n",
    "\n",
    "for idx, item in enumerate(range(10,51,10)):\n",
    "    print(idx,item)"
   ]
  },
  {
   "cell_type": "code",
   "execution_count": null,
   "metadata": {},
   "outputs": [],
   "source": []
  },
  {
   "cell_type": "code",
   "execution_count": 56,
   "metadata": {},
   "outputs": [
    {
     "name": "stdout",
     "output_type": "stream",
     "text": [
      "(1, 10)\n",
      "(2, 20)\n",
      "(3, 30)\n",
      "<zip object at 0x00000289070967C8>\n",
      "{'one': 1, 'two': 2, 'three': 3} <class 'zip'>\n"
     ]
    }
   ],
   "source": [
    "#zip 메소드***************\n",
    "#여러 개의 자료구조 객체를 받아 같은 index의 값끼리 튜플로*** 묵어준다.\n",
    "#묶는 자료구조 객체의 개수는 상관 X\n",
    "#각 자료구조 객체의 크기가 다른 경우 -->작은 것의 개수에 맞춘다.\n",
    "\n",
    "a=[1,2,3]\n",
    "b=[10,20,30]\n",
    "for z in zip(a,b):\n",
    "    print(z)\n",
    "c=zip((\"one\",\"two\",\"three\"), (1,2,3))\n",
    "print(c)    #주소\n",
    "print(dict(c), type(c))  "
   ]
  },
  {
   "cell_type": "code",
   "execution_count": null,
   "metadata": {},
   "outputs": [],
   "source": []
  },
  {
   "cell_type": "code",
   "execution_count": null,
   "metadata": {},
   "outputs": [],
   "source": [
    "# COMPREHENSION 함수**********8\n",
    "#기존 자료구조가 가진 원소들을 이용해 새로운 자료구조를 만드는 구문\n",
    "#주로 기존 자료구조의 원소들을 처리한 결과를 새로운 자료구조에 넣을 때 사용한다.\n",
    "#LIST comprehension\n",
    "#dictionary comprehension\n",
    "#set comprehension\n",
    "#tuple comprehension\n",
    "#dictionary/set comprehension \n",
    "\n"
   ]
  },
  {
   "cell_type": "code",
   "execution_count": null,
   "metadata": {},
   "outputs": [],
   "source": []
  },
  {
   "cell_type": "code",
   "execution_count": null,
   "metadata": {},
   "outputs": [],
   "source": []
  },
  {
   "cell_type": "code",
   "execution_count": null,
   "metadata": {},
   "outputs": [],
   "source": []
  },
  {
   "cell_type": "code",
   "execution_count": null,
   "metadata": {},
   "outputs": [],
   "source": []
  },
  {
   "cell_type": "code",
   "execution_count": null,
   "metadata": {},
   "outputs": [],
   "source": []
  }
 ],
 "metadata": {
  "kernelspec": {
   "display_name": "multi-py3.6",
   "language": "python",
   "name": "multi"
  },
  "language_info": {
   "codemirror_mode": {
    "name": "ipython",
    "version": 3
   },
   "file_extension": ".py",
   "mimetype": "text/x-python",
   "name": "python",
   "nbconvert_exporter": "python",
   "pygments_lexer": "ipython3",
   "version": "3.6.9"
  }
 },
 "nbformat": 4,
 "nbformat_minor": 2
}
